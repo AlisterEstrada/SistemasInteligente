{
  "nbformat": 4,
  "nbformat_minor": 0,
  "metadata": {
    "colab": {
      "name": "Las bases para usar Python.ipynb",
      "provenance": [],
      "collapsed_sections": []
    },
    "kernelspec": {
      "display_name": "Python 3",
      "language": "python",
      "name": "python3"
    },
    "language_info": {
      "codemirror_mode": {
        "name": "ipython",
        "version": 3
      },
      "file_extension": ".py",
      "mimetype": "text/x-python",
      "name": "python",
      "nbconvert_exporter": "python",
      "pygments_lexer": "ipython3",
      "version": "3.7.6"
    }
  },
  "cells": [
    {
      "cell_type": "markdown",
      "metadata": {
        "id": "RrXOGkgk9_hI",
        "colab_type": "text"
      },
      "source": [
        "[![Open In Colab](https://colab.research.google.com/assets/colab-badge.svg)](https://colab.research.google.com/github/MauricioRR-Tec/Sistemas-Inteligentes/blob/master/Notebooks/Las_bases_para_usar_Python.ipynb)"
      ]
    },
    {
      "cell_type": "markdown",
      "metadata": {
        "colab_type": "text",
        "id": "gbaeYc_PELNL"
      },
      "source": [
        "# Corriendo código de Python\n",
        "\n",
        "Python es un lenguaje interpretado, el código es ejecutado directamente, sin necesidad de ser compilado a un programa.\n",
        "\n",
        "Esto permite que las instrucciones puedan ser evaluadas y visualizadas inmediatamente. En una notebook, podrás visualizar la salida del código de una celda directamente debajo de ésta."
      ]
    },
    {
      "cell_type": "markdown",
      "metadata": {
        "colab_type": "text",
        "id": "8UkmHfasvzMM"
      },
      "source": [
        "# Expresiones en python\n",
        "\n",
        "Python puede recibir expresiones y evaluarlas directamente (como una calculadora).\n",
        "\n",
        "Por ejemplo puedes escribir:\n",
        "\n",
        "```\n",
        "3 + 7\n",
        "```\n",
        "\n",
        "Python analizará la expresión y te regresará el resultado de la operación:\n",
        "\n",
        "```\n",
        "10\n",
        "```\n",
        "\n",
        "Ejecuta la siguiente celda y pruebalo tú mismo."
      ]
    },
    {
      "cell_type": "code",
      "metadata": {
        "colab_type": "code",
        "id": "x6gI8FcPvur2",
        "colab": {}
      },
      "source": [
        "3 + 7"
      ],
      "execution_count": null,
      "outputs": []
    },
    {
      "cell_type": "markdown",
      "metadata": {
        "colab_type": "text",
        "id": "lcYeJr9AK5OE"
      },
      "source": [
        "Algunos de los operadores que puedes utilizar:\n",
        "\n",
        "> ```\n",
        "+ suma\n",
        "- resta\n",
        "* multiplicación\n",
        "/ división\n",
        "// división entera\n",
        "** potencia\n",
        "% módulo\n",
        "```"
      ]
    },
    {
      "cell_type": "markdown",
      "metadata": {
        "colab_type": "text",
        "id": "kRZrbv3ov7_D"
      },
      "source": [
        "### Ahora intentalo tú escribiendo una expresión en la siguiente celda."
      ]
    },
    {
      "cell_type": "code",
      "metadata": {
        "colab_type": "code",
        "id": "-zUX0fLev5FW",
        "colab": {}
      },
      "source": [
        ""
      ],
      "execution_count": null,
      "outputs": []
    },
    {
      "cell_type": "markdown",
      "metadata": {
        "colab_type": "text",
        "id": "Z_PZVVq4NZJE"
      },
      "source": [
        "Puedes combinar múltiples operadores en una misma expresión.\n",
        "\n",
        "\n",
        "*Nota: Recuerda que ciertos operadores matemáticos tienen precedencia sobre otros.*"
      ]
    },
    {
      "cell_type": "code",
      "metadata": {
        "colab_type": "code",
        "id": "92ELRzrWNhdj",
        "colab": {}
      },
      "source": [
        "5+1 *2 + 4/2*2 + 1"
      ],
      "execution_count": null,
      "outputs": []
    },
    {
      "cell_type": "markdown",
      "metadata": {
        "colab_type": "text",
        "id": "7QVK5OhdBXA6"
      },
      "source": [
        "# Variables\n",
        "\n",
        "En un lenguaje de programación, una variable es un espacio en memoria utilizado para almacenar información (un valor), este es referido mediante un nombre simbólico (identificador o nombre de la variable). En Python, nombrarás a la variable y usarás el signo ```=``` para asignarle un valor. Por ejemplo:\n",
        "\n",
        ">```\n",
        "mensaje = \"Hola mundo!\"\n",
        "n = 10\n",
        "pi = 3.14159265\n",
        "```\n",
        "\n",
        "Nombres de variables:\n",
        "\n",
        "* El nombre de la variables solo puede contener letras, dígitos y/o guion bajo (\\_).\n",
        "* Una variable debe iniciar con una letra o un guion bajo.\n",
        "* Las variables son sensibles a minúsculas y mayúsculas (```x``` es diferente a ```X```)."
      ]
    },
    {
      "cell_type": "markdown",
      "metadata": {
        "id": "P7Iq08_R9_hu",
        "colab_type": "text"
      },
      "source": [
        "Restricciones:\n",
        "* Algunas palabras son reservadas por Python y no puedes utilizarlas como nombres de variables.\n",
        "  \n",
        "  Palabras reservadas:\n",
        "  > ```\n",
        "  False class finally is return\n",
        "  None continue for lambda try\n",
        "  True def from nonlocal while\n",
        "  and del global not with\n",
        "  as elif if or yield\n",
        "  assert else import pass\n",
        "  break except in raise\n",
        "  ```\n",
        "* Una variable no puede iniciar con dígitos, por ejemplo, ```20gatos``` no es un nombre válido."
      ]
    },
    {
      "cell_type": "markdown",
      "metadata": {
        "id": "Tk95d5dy9_hv",
        "colab_type": "text"
      },
      "source": [
        "Algunas recomendaciones para elegir nombres de variables:\n",
        "* Utiliza nombres que permitan identificar para que es utilizada:\n",
        "  \n",
        "  >```\n",
        "  pi = 3.14159265\n",
        "  mensaje = \"Hola mundo!\"\n",
        "  segundos_por_dia = 86400\n",
        "  ```\n",
        "* Puedes usar nombres cortos para las variables (```i``` y ```j```) cuando solo las usarás durante una pequeña sección de código.\n",
        "* Para evitar confusiones, es común usar únicamente letras minúsculas en el nombre de las variables.\n",
        "* Para variables con múltiples palabras, utiliza ```_``` para separarlas (```segundos_por_dia```)."
      ]
    },
    {
      "cell_type": "code",
      "metadata": {
        "colab_type": "code",
        "id": "YJcUn6y65D2C",
        "colab": {}
      },
      "source": [
        "#Prueba declarar algunas variables y realizar una expresion"
      ],
      "execution_count": null,
      "outputs": []
    },
    {
      "cell_type": "markdown",
      "metadata": {
        "colab_type": "text",
        "id": "ZJiRj9uSP-MV"
      },
      "source": [
        "## Comentarios en el código\n",
        "\n",
        "En la primera línea de la celda anterior aparece el símbolo ```#``` antes del texto. En python, esto permite escribir cualquier texto y será ignorado durante la ejecución. Esto te permite escribir notas y documentar tu código sin afectar el programa.\n",
        "\n",
        "También puedes hacer comentarios que se extienden por múltiples líneas encerrando el texto entre ```'''```.\n",
        "\n"
      ]
    },
    {
      "cell_type": "code",
      "metadata": {
        "colab_type": "code",
        "id": "U7FTtPqpRI6p",
        "colab": {}
      },
      "source": [
        "#Un comentario en una sola linea\n",
        "m = 5\n",
        "\n",
        "'''\n",
        "Un comentario\n",
        "multi\n",
        "linea\n",
        "no afecta\n",
        "el codigo\n",
        "'''\n",
        "n = 10\n",
        "print(n*m)"
      ],
      "execution_count": null,
      "outputs": []
    },
    {
      "cell_type": "markdown",
      "metadata": {
        "colab_type": "text",
        "id": "EaSHVVdDBgx0"
      },
      "source": [
        "# Tipos de datos\n",
        "\n",
        "Python es un lenguaje dinámicamente tipado, esto quiere decir que una misma variable puede tomar valores de distinto _tipo_ en momentos diferentes.\n",
        "\n",
        "Entonces, al declarar una variable en python asignarás un valor a ésta, el valor asignado tiene un _tipo_. Los tipos de datos primitivos disponibles en python son:\n",
        "\n",
        "* Integers o enteros.\n",
        "\n",
        "\n",
        ">```\n",
        "n = 10\n",
        "```\n",
        "\n",
        "\n",
        "* Floats o punto flotante.\n",
        "\n",
        "\n",
        ">```\n",
        "pi = 3.14159265\n",
        "```\n"
      ]
    },
    {
      "cell_type": "markdown",
      "metadata": {
        "id": "66Vz1c1E9_h6",
        "colab_type": "text"
      },
      "source": [
        "* String o cadena.\n",
        "\n",
        "\n",
        ">```\n",
        "msj = \"Hola mundo!\"\n",
        "```\n",
        "\n",
        "\n",
        "* Booleans o Booleanos.\n",
        "\n",
        "\n",
        ">```\n",
        "flag = True\n",
        "```\n",
        "\n",
        "Además de éstos, existen otros tipos de datos que se componen de uno o más datos primitivos."
      ]
    },
    {
      "cell_type": "markdown",
      "metadata": {
        "id": "LdVfNLzV9_h7",
        "colab_type": "text"
      },
      "source": [
        "En python estos son:\n",
        "\n",
        "* List o listas.\n",
        ">```\n",
        "first_five_numbers = [1, 2, 3, 4, 5]\n",
        "```\n",
        "\n",
        "* Tuple o tuplas.\n",
        ">```\n",
        "pair = (1, 10)\n",
        "```"
      ]
    },
    {
      "cell_type": "markdown",
      "metadata": {
        "id": "fnqEZ8a39_h7",
        "colab_type": "text"
      },
      "source": [
        "* Ranges.\n",
        ">```\n",
        "range(5)\n",
        "```\n",
        "\n",
        "* Dictionary.\n",
        ">```\n",
        "agenda = {'jack': 4098, 'sjoerd': 4127}\n",
        "```"
      ]
    },
    {
      "cell_type": "markdown",
      "metadata": {
        "colab_type": "text",
        "id": "hGH0IQtwPUyT"
      },
      "source": [
        "Prueba algunos tipos de datos asignando un nuevo valor a la variable ```var```, la celda imprimirá el tipo de dato."
      ]
    },
    {
      "cell_type": "code",
      "metadata": {
        "colab_type": "code",
        "id": "zzoSp8I3Bbk6",
        "colab": {}
      },
      "source": [
        "#cambia el valor de la siguiete variable a otros tipos de datos.\n",
        "var = 10\n",
        "type(var)"
      ],
      "execution_count": null,
      "outputs": []
    },
    {
      "cell_type": "markdown",
      "metadata": {
        "colab_type": "text",
        "id": "Y-Aba4BpNMiV"
      },
      "source": [
        "Un ejemplo de tipado dinámico."
      ]
    },
    {
      "cell_type": "code",
      "metadata": {
        "colab_type": "code",
        "id": "ogh6bu3hNKGn",
        "colab": {}
      },
      "source": [
        "#Primero declaramos una variable asignandole un valor entero\n",
        "var = 10\n",
        "print(var)\n",
        "\n",
        "#Ahora le asignamos otro tipo de dato a la variable\n",
        "var = \"hola\"\n",
        "print(var)"
      ],
      "execution_count": null,
      "outputs": []
    },
    {
      "cell_type": "markdown",
      "metadata": {
        "colab_type": "text",
        "id": "85W5YMMFpfsZ"
      },
      "source": [
        "## Convertir entre tipos de datos\n",
        "\n",
        "En python las _funciones_ pre-definidas int(), float() y str(), pueden ser usadas para convertir un tipo de dato a otro.\n",
        "\n",
        "Por ejemplo, si tienes una variable string y la necesitas como entero:\n",
        "\n",
        "\n",
        "```\n",
        "diez = \"10\"\n",
        "n = int(diez)\n",
        "```\n",
        "\n",
        "\n"
      ]
    },
    {
      "cell_type": "code",
      "metadata": {
        "colab_type": "code",
        "id": "6gtsIUMepgCN",
        "colab": {}
      },
      "source": [
        "diez = \"10\"\n",
        "print(type(diez))\n",
        "print(diez)\n",
        "\n",
        "\n",
        "#covirtiendo string a int\n",
        "n = int(diez)\n",
        "print(type(n))\n",
        "print(n)"
      ],
      "execution_count": null,
      "outputs": []
    },
    {
      "cell_type": "markdown",
      "metadata": {
        "colab_type": "text",
        "id": "qNvilofIZWHG"
      },
      "source": [
        "## Strings (cadenas)\n",
        "\n",
        "Las variables tipo strings o variables cadena, son tipos de datos que almacenan una secuencia de caracteres (texto). Para declarar una variable string, debes encerrar el texto entre ```\"``` o ```'```.\n",
        "\n",
        "```\n",
        "s = \"texto\"\n",
        "```\n",
        "\n",
        "o\n",
        "\n",
        "```\n",
        "s = 'texto'\n",
        "```\n"
      ]
    },
    {
      "cell_type": "markdown",
      "metadata": {
        "id": "54kcFMBl9_iF",
        "colab_type": "text"
      },
      "source": [
        "Tambien puedes usar triple ```\"\"\"``` o triple ```'''``` para escribir una cadena que usa multiples líneas.\n",
        "\n",
        "```\n",
        "s = \"\"\"texto1\n",
        "    texto2\n",
        "    texto3\n",
        "    ...\n",
        "\"\"\"\n",
        "```\n",
        "\n",
        "o\n",
        "\n",
        "```\n",
        "s = '''texto1\n",
        "    texto2\n",
        "    texto3\n",
        "    ...\n",
        "'''\n",
        "```"
      ]
    },
    {
      "cell_type": "code",
      "metadata": {
        "colab_type": "code",
        "id": "lEO4QOkz7WZD",
        "colab": {}
      },
      "source": [
        "msj = \"Hola mundo!\"\n",
        "print(msj)"
      ],
      "execution_count": null,
      "outputs": []
    },
    {
      "cell_type": "code",
      "metadata": {
        "colab_type": "code",
        "id": "JTdiGYnki2Tw",
        "colab": {}
      },
      "source": [
        "msj = \"\"\"Hola \n",
        "mundo\n",
        "!\"\"\"\n",
        "print(msj)"
      ],
      "execution_count": null,
      "outputs": []
    },
    {
      "cell_type": "markdown",
      "metadata": {
        "colab_type": "text",
        "id": "Alwu0oKh74vS"
      },
      "source": [
        "Para acceder a un caracter de la secuencia de una variable string $s$ debes usar su índice $i$ y ```[]```. Los índices de una cadena inician en $0$.\n",
        "\n",
        "\n",
        "\n",
        "```\n",
        "s[i]\n",
        "```\n",
        "\n",
        "\n",
        "\n",
        "Algunos puntos importantes de las listas:\n",
        "\n",
        "* Cualquier expresión que regrese un número entero puede ser usada como índice.\n",
        "* Si usaste un índice que no está en la lista recibirás un error.\n",
        "* Puedes usar índices negativos, esto funcionará como si leyeras la cadena de atrás hacía delante."
      ]
    },
    {
      "cell_type": "code",
      "metadata": {
        "colab_type": "code",
        "id": "7legFNQR75Ee",
        "colab": {}
      },
      "source": [
        "msj = \"Hola mundo!\"\n",
        "print(msj)\n",
        "\n",
        "#Primera letra de msj\n",
        "print(msj[0])\n",
        "\n",
        "#Ultima letra del msj\n",
        "print(msj[-1])"
      ],
      "execution_count": null,
      "outputs": []
    },
    {
      "cell_type": "markdown",
      "metadata": {
        "colab_type": "text",
        "id": "TG36Pt1581Y9"
      },
      "source": [
        "### Longitud de una cadena\n",
        "\n",
        "Puedes usar ```len```, para conocer el número de caracteres en una variable string.\n",
        "\n",
        "```\n",
        "len(s)\n",
        "```"
      ]
    },
    {
      "cell_type": "code",
      "metadata": {
        "colab_type": "code",
        "id": "ifiSwMiw81iw",
        "colab": {}
      },
      "source": [
        "msj = \"Hola mundo!\"\n",
        "print(\"Numero de caracteres en el mensaje:\", len(msj))"
      ],
      "execution_count": null,
      "outputs": []
    },
    {
      "cell_type": "markdown",
      "metadata": {
        "colab_type": "text",
        "id": "GvGl6dPc921V"
      },
      "source": [
        "### Operadores con cadenas\n",
        "Puedes usar los operadores + y * en variables string.\n",
        "\n",
        "* $+$ para concatenar dos strings.\n",
        "* $*$ para repetir una string cierto número de veces.\n",
        "* $==$ para comparar dos strings.\n",
        "* $<$ para comparar si una string aparece alfabeticamente antes que otra.\n",
        "* $>$ para comparar si una string aparece alfabeticamente después que otra.\n"
      ]
    },
    {
      "cell_type": "code",
      "metadata": {
        "colab_type": "code",
        "id": "Kc0hKa7t927e",
        "colab": {}
      },
      "source": [
        "s1 = \"He\"\n",
        "s2 = \"llo\"\n",
        "\n",
        "#concatenar s1 y s2 con +\n",
        "print(s1+s2)"
      ],
      "execution_count": null,
      "outputs": []
    },
    {
      "cell_type": "code",
      "metadata": {
        "colab_type": "code",
        "id": "KzpMWDgpIsDi",
        "colab": {}
      },
      "source": [
        "repetition = \"Repeat\"\n",
        "\n",
        "#repetir una cadena 3 veces usando *\n",
        "print(3 * repetition)"
      ],
      "execution_count": null,
      "outputs": []
    },
    {
      "cell_type": "code",
      "metadata": {
        "colab_type": "code",
        "id": "Wvii7H3xI9Xg",
        "colab": {}
      },
      "source": [
        "s1 = \"Hello\"\n",
        "s2 = \"Hello\"\n",
        "\n",
        "#comparar dos cadenas\n",
        "print(s1 == s2)"
      ],
      "execution_count": null,
      "outputs": []
    },
    {
      "cell_type": "code",
      "metadata": {
        "colab_type": "code",
        "id": "5KGqHYXYI_tR",
        "colab": {}
      },
      "source": [
        "s1 = \"ABC\"\n",
        "s2 = \"DEF\"\n",
        "\n",
        "#Comparar orden alfabetico de las cadenas\n",
        "print(s1<s2)"
      ],
      "execution_count": null,
      "outputs": []
    },
    {
      "cell_type": "markdown",
      "metadata": {
        "colab_type": "text",
        "id": "kxMZJACH-B3B"
      },
      "source": [
        "### Slicing de cadenas\n",
        "\n",
        "La operación de slicing de python te permite seleccionar una sub-secuencia de caracteres de una cadena. Para hacer slicing utilizas la siguiente nomenclatura ```s[n:m]```, donde $n$ es el índice de inicio del slice y $m$ es el índice final (no inclusivo). Por ejemplo, si quisiera seleccionar los primeros cinco caracteres de una cadena:\n",
        "\n",
        "```\n",
        "msj = \"Hello world!\"\n",
        "print(msj[0:5])\n",
        "```\n",
        "\n",
        "Algunos atajos:\n",
        "\n",
        "* Si omites el valor de $n$, el slice iniciará al principio de la cadena.\n",
        "\n",
        "```\n",
        "msj = \"Hello world!\"\n",
        "print(msj[:5])\n",
        "```"
      ]
    },
    {
      "cell_type": "markdown",
      "metadata": {
        "id": "GzEyr3-v9_ic",
        "colab_type": "text"
      },
      "source": [
        "* Si omites el valor de $m$, el slice finalizará en el último caracter de la cadena.\n",
        "\n",
        "```\n",
        "msj = \"Hello world!\"\n",
        "print(msj[5:])\n",
        "```\n",
        "\n",
        "* Si omites ambos valores (```s[:]```), el slice retorna todos los caracteres de la cadena.\n",
        "\n",
        "```\n",
        "msj = \"Hello world!\"\n",
        "print(msj[:])\n",
        "```"
      ]
    },
    {
      "cell_type": "code",
      "metadata": {
        "colab_type": "code",
        "id": "vQwi0l7i-B8U",
        "colab": {}
      },
      "source": [
        "msj = \"Hello world!\"\n",
        "\n",
        "#slicing de una cadena\n",
        "print(msj[0:5])"
      ],
      "execution_count": null,
      "outputs": []
    },
    {
      "cell_type": "markdown",
      "metadata": {
        "colab_type": "text",
        "id": "k0xTiHfv93Ky"
      },
      "source": [
        "### Inmutabilidad\n",
        "\n",
        "En python, una cadena es un objeto inmutable, esto quiere decir que los elementos que la componen no pueden ser modificados.\n",
        "\n",
        "```\n",
        "msj = \"Helle world!\"\n",
        "\n",
        "#la siguiente linea resultara en un error\n",
        "msj[4] = o\n",
        "\n",
        "print(msj)\n",
        "```\n",
        "\n",
        "Tendras que crear una nueva cadena si necesitas hacer cambios en cualquier cadena."
      ]
    },
    {
      "cell_type": "code",
      "metadata": {
        "colab_type": "code",
        "id": "jI2JYL8s93PQ",
        "colab": {}
      },
      "source": [
        "msj = \"Helle world!\"\n",
        "\n",
        "# la siguiente linea resultara en un error\n",
        "msj[4] = \"o\"\n",
        "\n",
        "print(msj)"
      ],
      "execution_count": null,
      "outputs": []
    },
    {
      "cell_type": "markdown",
      "metadata": {
        "colab_type": "text",
        "id": "e7c7Kz3D_ACh"
      },
      "source": [
        "### Métodos adicionales de cadenas\n",
        "\n",
        "Algunos de los métodos más utilizados que puedes utilizar al trabajar con cadenaso son:\n",
        "\n",
        "* s.strip() # Elimina todos espacios antes y después de la cadena.\n",
        "\n",
        "* s.upper() # Convierte la cadena a mayúsculas.\n",
        "\n",
        "* s.lower() # Convierte la cadena a minúsculas.\n",
        "\n",
        "* s.find(subs, [start, [end]]) # Permite encontrar la posición del primer índice donde aparece la subcadena subs. Puedes usar los parámetros adicionales start end para buscar en un slice de s.\n",
        "\n",
        "* s.replace(old_s, new_s) # Reemplaza todas las ocurrencias de old_s que se encuenten en s por new_s.\n",
        "\n",
        "* s.split(sep) # Genera una lista de cadenas al dividir s usando sep como subcadena de separación.\n",
        "\n",
        "* s.join(l) # Combina con s cada elemento de una lista de cadenas formando una sola cadena.\n"
      ]
    },
    {
      "cell_type": "markdown",
      "metadata": {
        "id": "1XeDXQhR9_ii",
        "colab_type": "text"
      },
      "source": [
        "Estos fueron solo unos de los métodos que puedes usar con variables string, pero existen más métodos disponibles. Puedes consultar la lista completa en la documentación oficial de python: [Python 3 string methods](https://docs.python.org/3/library/stdtypes.html#string-methods)."
      ]
    },
    {
      "cell_type": "markdown",
      "metadata": {
        "colab_type": "text",
        "id": "xTqeMcq10p8o"
      },
      "source": [
        "**strip**"
      ]
    },
    {
      "cell_type": "code",
      "metadata": {
        "colab_type": "code",
        "id": "mFnZKvn7_AMY",
        "colab": {}
      },
      "source": [
        "s_padding = \"   Hola    \"\n",
        "print(\"Cadena original con espacios extras:\", s_padding)\n",
        "\n",
        "#strip para eliminar espacios antes y despues de la cadena\n",
        "print(\"Cadena eliminando espacio con strip:\", s_padding.strip())"
      ],
      "execution_count": null,
      "outputs": []
    },
    {
      "cell_type": "markdown",
      "metadata": {
        "colab_type": "text",
        "id": "AqmD-bUS0qnh"
      },
      "source": [
        "**upper**"
      ]
    },
    {
      "cell_type": "code",
      "metadata": {
        "colab_type": "code",
        "id": "eLDC3NUX0A8I",
        "colab": {}
      },
      "source": [
        "s_lower = \"abcd\"\n",
        "print(\"Cadena original en minusculas:\", s_lower)\n",
        "\n",
        "#upper para cambiar la cadena a mayusculas\n",
        "print(\"Cadena despues de aplicar upper:\", s_lower.upper())"
      ],
      "execution_count": null,
      "outputs": []
    },
    {
      "cell_type": "markdown",
      "metadata": {
        "colab_type": "text",
        "id": "_Xrga0bU0vTh"
      },
      "source": [
        "**lower**"
      ]
    },
    {
      "cell_type": "code",
      "metadata": {
        "colab_type": "code",
        "id": "ZjySwpAd0cQP",
        "colab": {}
      },
      "source": [
        "s_upper = \"ABCD\"\n",
        "print(\"Cadena original en mayusculas:\", s_upper)\n",
        "\n",
        "#lower para cambiar la cadena a minusculas\n",
        "print(\"Cadena despues de aplicar lower:\", s_upper.lower())"
      ],
      "execution_count": null,
      "outputs": []
    },
    {
      "cell_type": "markdown",
      "metadata": {
        "colab_type": "text",
        "id": "Qc1Y6ZYh003v"
      },
      "source": [
        "**find**"
      ]
    },
    {
      "cell_type": "code",
      "metadata": {
        "colab_type": "code",
        "id": "hJRPUNn40n4C",
        "colab": {}
      },
      "source": [
        "msj = \"Hola mundo!\"\n",
        "sub_s = \"mundo\"\n",
        "\n",
        "\n",
        "#usando find para encontrar la posicion de una subcadena\n",
        "i = msj.find(sub_s)\n",
        "print(\"La subcadena\", sub_s, \"inicia en el indice\", i, \"de\", msj)"
      ],
      "execution_count": null,
      "outputs": []
    },
    {
      "cell_type": "markdown",
      "metadata": {
        "colab_type": "text",
        "id": "RbDyQdNJ1fvo"
      },
      "source": [
        "**replace**"
      ]
    },
    {
      "cell_type": "code",
      "metadata": {
        "colab_type": "code",
        "id": "EinBN0M51f2g",
        "colab": {}
      },
      "source": [
        "msj = \"Hola *!\"\n",
        "sub_s = \"mundo\"\n",
        "\n",
        "print(\"Cadena original:\", msj)\n",
        "\n",
        "#usando replace para reemplazar caracteres de una cadena por una subcadena\n",
        "print(\"Nueva cadena usando replace:\", msj.replace(\"*\", sub_s))"
      ],
      "execution_count": null,
      "outputs": []
    },
    {
      "cell_type": "markdown",
      "metadata": {
        "colab_type": "text",
        "id": "pi941Yad1iXt"
      },
      "source": [
        "**split**"
      ]
    },
    {
      "cell_type": "code",
      "metadata": {
        "colab_type": "code",
        "id": "C-_SqmP-1icR",
        "colab": {}
      },
      "source": [
        "phrase = \"Cinco palabras en una linea\"\n",
        "\n",
        "#Usando split para obtener una lista separando la cadena por espacios (por defecto)\n",
        "words = phrase.split()\n",
        "print(\"De cadena a lista usando split:\", phrase, \"->\", words)"
      ],
      "execution_count": null,
      "outputs": []
    },
    {
      "cell_type": "markdown",
      "metadata": {
        "colab_type": "text",
        "id": "OY5EjQMK1lYg"
      },
      "source": [
        "**join**"
      ]
    },
    {
      "cell_type": "code",
      "metadata": {
        "colab_type": "code",
        "id": "HKngDjCM1ldF",
        "colab": {}
      },
      "source": [
        "words = ['Cinco', 'palabras', 'en', 'una', 'lista']\n",
        "\n",
        "#Uniendo los elementos de una lista de strings a una sola variable string\n",
        "phrase = \" \".join(words)\n",
        "print(\"De lista a una cadena usando join:\", words, \"->\", phrase)"
      ],
      "execution_count": null,
      "outputs": []
    },
    {
      "cell_type": "markdown",
      "metadata": {
        "colab_type": "text",
        "id": "QgVKhJNAZQeO"
      },
      "source": [
        "## Listas\n",
        "\n",
        "En python, una lista es una colección de elementos. Para declarar una lista, usarás ```[]``` para encerrar a los elementos que la conformarán. Cada elemento estará separado por una coma. Por ejemplo, para crear una lista con los números del 1 al 5 escribirás:\n",
        "\n",
        "```\n",
        "first_five_numbers = [1, 2, 3, 4, 5]\n",
        "``` \n",
        "\n",
        "Los elemento de una lista pueden ser cualquier tipo de dato primitivo (int, float, string o boolean) u otras listas (una lista anidada). También puedes declarar una lista vacía dejando a la lista sin elementos.\n",
        "\n",
        "```\n",
        "#Una lista de enteros\n",
        "first_five_numbers = [1, 2, 3, 4, 5]\n",
        "\n",
        "#Una lista de strings\n",
        "words = [\"hello\", \"bye\", \"thanks\", \"low\"]\n",
        "\n",
        "#lista anidada, lista de listas\n",
        "l_lists = [[1, 2, 3, 4, 5], [6, 7, 8, 9, 10]]\n",
        "\n",
        "#una lista vacia\n",
        "empty_list = []\n",
        "``` "
      ]
    },
    {
      "cell_type": "markdown",
      "metadata": {
        "id": "aLuSxte69_iy",
        "colab_type": "text"
      },
      "source": [
        "Los elementos en una lista tienen un orden de aparición, lo que permite que puedas acceder a ellos mediante su índice. Los índices de una lista inician en $0$. Para acceder individualmente a los elemento de una lista usarás la notación ```[n]```.\n",
        "\n",
        "```\n",
        "#Una lista de enteros\n",
        "first_five_numbers = [1, 2, 3, 4, 5]\n",
        "\n",
        "#imprimir el primer elemento de la lista\n",
        "print(first_five_numbers[0])\n",
        "```\n",
        "\n",
        "Algunos puntos importantes de las las listas:\n",
        "\n",
        "* Cualquier expresión que regrese un número entero puede ser usada como índice.\n",
        "* Si usaste un índice que no está en la lista recibirás un error.\n",
        "* Puedes usar índices negativos, esto funcinará como si leyeras la lista de atras hacía delante."
      ]
    },
    {
      "cell_type": "code",
      "metadata": {
        "colab_type": "code",
        "id": "9ovoyaQxdSr-",
        "colab": {}
      },
      "source": [
        "#Prueba a cambiar el valor de n para imprimir otros elementos de la lista\n",
        "n = 0\n",
        "\n",
        "# Una lista de enteros\n",
        "first_five_numbers = [1, 2, 3, 4, 5]\n",
        "\n",
        "# imprimir el n-esimo elemento de la lista\n",
        "print(first_five_numbers[n])"
      ],
      "execution_count": null,
      "outputs": []
    },
    {
      "cell_type": "markdown",
      "metadata": {
        "colab_type": "text",
        "id": "gXLrMDfXSWEd"
      },
      "source": [
        "### Número de elementos en una lista\n",
        "\n",
        "Puedes usar la notación ```len(l)``` para retornar el número de elementos que contiene una lista."
      ]
    },
    {
      "cell_type": "code",
      "metadata": {
        "colab_type": "code",
        "id": "-DR0CZiZQ3nK",
        "colab": {}
      },
      "source": [
        "first_numbers = [1, 2, 3, 4, 5]\n",
        "\n",
        "#imprimir todos los elementos de la lista\n",
        "print(first_numbers)\n",
        "\n",
        "#Numero de elementos en la lista\n",
        "print(\"Numero de elementos en la lista:\", len(first_numbers))"
      ],
      "execution_count": null,
      "outputs": []
    },
    {
      "cell_type": "markdown",
      "metadata": {
        "colab_type": "text",
        "id": "DpSV9G2IdS-l"
      },
      "source": [
        "### Mutabilidad de listas\n",
        "\n",
        "Las listas en python son mutables, esto quiere decir que puedes modificar los contenidos de éstas. Por ejemplo, puedes sobreescribir el valor del primer elemento de una lista usando:\n",
        "\n",
        "```\n",
        "#declarando una lista de strings\n",
        "words = [\"hello\", \"bye\", \"thanks\", \"low\"]\n",
        "print(words)\n",
        "\n",
        "#reemplazando el primer valor de la lista\n",
        "words[0] = \"hi\"\n",
        "print(words)\n",
        "```\n",
        "\n"
      ]
    },
    {
      "cell_type": "code",
      "metadata": {
        "colab_type": "code",
        "id": "dJzBi43EH_uG",
        "colab": {}
      },
      "source": [
        "# declarando una lista de strings\n",
        "words = [\"hello\", \"bye\", \"thanks\", \"low\"]\n",
        "print(words)\n",
        "\n",
        "# reemplazando el primer valor de la lista\n",
        "words[0] = \"hi\"\n",
        "print(words)"
      ],
      "execution_count": null,
      "outputs": []
    },
    {
      "cell_type": "markdown",
      "metadata": {
        "colab_type": "text",
        "id": "SD_64r66IQNM"
      },
      "source": [
        "### Slicing de listas\n",
        "\n",
        "La operación de slicing de python te permite seleccionar varios elementos de una lista (una rebanada). Para hacer slicing utilizas la siguiente nomenclatura ```list[n:m]```, donde $n$ es el índice de inicio del slice y $m$ es el índice final (no inclusivo). Por ejemplo, si quisiera seleccionar los primeros tres elementos de una lista usarías:\n",
        "\n",
        "```\n",
        "first_five_numbers = [1, 2, 3, 4, 5]\n",
        "print(first_five_numbers[0:3])\n",
        "```\n",
        "\n",
        "Algunos atajos:\n",
        "\n",
        "* Si omites el valor de $n$, el slice iniciará al principio de la lista.\n",
        "\n",
        "```\n",
        "first_five_numbers = [1, 2, 3, 4, 5]\n",
        "print(first_five_numbers[:3])\n",
        "```\n",
        "\n",
        "* Si omites el valor de $m$, el slice finalizará en el último elemento de la lista.\n",
        "\n",
        "```\n",
        "first_five_numbers = [1, 2, 3, 4, 5]\n",
        "print(first_five_numbers[1:])\n",
        "```\n",
        "\n",
        "* Si omites ambos valores (```list[:]```), el slice retorna una copia de toda la lista.\n",
        "\n",
        "```\n",
        "first_five_numbers = [1, 2, 3, 4, 5]\n",
        "print(first_five_numbers[:])\n",
        "```\n",
        "\n",
        "\n"
      ]
    },
    {
      "cell_type": "code",
      "metadata": {
        "colab_type": "code",
        "id": "SyNwgnHZKw_t",
        "colab": {}
      },
      "source": [
        "#modifica los valores del slice de la lista para seleccionar diferentes elementos\n",
        "first_five_numbers = [1, 2, 3, 4, 5]\n",
        "print(first_five_numbers[0:3])"
      ],
      "execution_count": null,
      "outputs": []
    },
    {
      "cell_type": "markdown",
      "metadata": {
        "colab_type": "text",
        "id": "doxaNL0CKwL1"
      },
      "source": [
        "También puedes usar slicing para modificar múltiples elementos de una lista. Recuerda que una lista es mutable, por lo que los elementos anteriores se sobrescriben.\n",
        "\n",
        "```\n",
        "first_five_numbers = [1, 2, 3, 4, 5]\n",
        "print(first_five_numbers)\n",
        "\n",
        "first_five_numbers[0:3] = [0, 1, 2]\n",
        "print(first_five_numbers)\n",
        "```\n"
      ]
    },
    {
      "cell_type": "code",
      "metadata": {
        "colab_type": "code",
        "id": "e-z9JPzDKxc1",
        "colab": {}
      },
      "source": [
        "first_five_numbers = [1, 2, 3, 4, 5]\n",
        "print(first_five_numbers)\n",
        "\n",
        "#usando slicing para cambiar los elementos de la lista\n",
        "#Esto actualiza los elementos por lo que los valores anteriores se pierden\n",
        "first_five_numbers[0:3] = [0, 1, 2]\n",
        "print(first_five_numbers)"
      ],
      "execution_count": null,
      "outputs": []
    },
    {
      "cell_type": "markdown",
      "metadata": {
        "colab_type": "text",
        "id": "e9614nw7pMjO"
      },
      "source": [
        "Por último, puedes usar un tercer elemento $k$ al hacer slicing para definir el tamaño del salto."
      ]
    },
    {
      "cell_type": "code",
      "metadata": {
        "colab_type": "code",
        "id": "1_U_-qXTpM3A",
        "colab": {}
      },
      "source": [
        "first_five_numbers = [1, 2, 3, 4, 5]\n",
        "print(\"lista de numeros enteros:\", first_five_numbers)\n",
        "\n",
        "k = 2\n",
        "print(\"numeros impares\", first_five_numbers[::k])"
      ],
      "execution_count": null,
      "outputs": []
    },
    {
      "cell_type": "markdown",
      "metadata": {
        "colab_type": "text",
        "id": "fcvbgKuwMGs5"
      },
      "source": [
        "### Operadores y listas\n",
        "\n",
        "Las listas también funcionan con los operadores ```+``` y ```*```. \n"
      ]
    },
    {
      "cell_type": "markdown",
      "metadata": {
        "colab_type": "text",
        "id": "2bKPFwIDNd0w"
      },
      "source": [
        "**+**\n",
        "\n",
        "El operador ```+``` \"suma\" dos listas, formando una lista que contiene los elementos de ambas listas.\n",
        "\n",
        "```\n",
        "fruits = [\"apple\", \"orange\"]\n",
        "animals = [\"cat\", \"dogs\"]\n",
        "\n",
        "animals_fruits = fruits + animals\n",
        "print(animals_fruits)\n",
        "```"
      ]
    },
    {
      "cell_type": "code",
      "metadata": {
        "colab_type": "code",
        "id": "8OyMw8w4NJmI",
        "colab": {}
      },
      "source": [
        "fruits = [\"apple\", \"orange\"]\n",
        "animals = [\"cat\", \"dogs\"]\n",
        "\n",
        "#Una nueva lista que contiene los elementos de \n",
        "animals_fruits = fruits + animals\n",
        "print(animals_fruits)"
      ],
      "execution_count": null,
      "outputs": []
    },
    {
      "cell_type": "markdown",
      "metadata": {
        "colab_type": "text",
        "id": "OVi3kn67NjUK"
      },
      "source": [
        "**\\***\n",
        "\n",
        "El operador ```*``` \"multiplica\" una lista por un entero $n$, devolviendo una lista que repite $n$ veces la lista.\n",
        "\n",
        "```\n",
        "ones = [1]\n",
        "\n",
        "ones = 10 * ones\n",
        "print(ones)\n",
        "```"
      ]
    },
    {
      "cell_type": "code",
      "metadata": {
        "colab_type": "code",
        "id": "I7DL8XQrOTl1",
        "colab": {}
      },
      "source": [
        "one = [1]\n",
        "\n",
        "#Una nueva lista que repite 10 veces la lista one\n",
        "ones = 10 * one\n",
        "print(ones)"
      ],
      "execution_count": null,
      "outputs": []
    },
    {
      "cell_type": "markdown",
      "metadata": {
        "colab_type": "text",
        "id": "3PpdCYS_O1qw"
      },
      "source": [
        "### Métodos adicionales de listas\n",
        "\n",
        "Python provee algunas funcionalidades adicionales para el manejo de listas. Estos son importantes para realizar muchas de las tareas que involucran listas.\n",
        "\n",
        "* l.append(x) # Agrega un nuevo elemento _x_ al final de la lista.\n",
        "\n",
        "* l.clear() # Remueve todos los elementos de la lista.\n",
        "\n",
        "* l.copy() # Crea una copia de la lista.\n",
        "\n",
        "* l.extend(l2) # Añade los elementos de l2 a l, similar al operador +.\n",
        "\n",
        "* l.insert(i, x) # Inserta el valor x en la lista en la posición definida por el índice i.\n",
        "\n",
        "* l.pop(\\[i\\]) # Retorna y remueve el elemento en el índice i de la lista. Si se omite i, entonces retorna y remueve el último elemento de la lista.\n",
        "\n",
        "* l.remove(x) # Remueve el elemento x de la lista (solo la primera aparición).\n"
      ]
    },
    {
      "cell_type": "markdown",
      "metadata": {
        "id": "QMi8fi_69_jF",
        "colab_type": "text"
      },
      "source": [
        "* l.reverse() # Invierte el orden de los elementos en la lista. \n",
        "\n",
        "* l.sort() # Retorna la lista con todos sus elementos ordenados ascendentemente.\n",
        "\n",
        "* del list\\[i\\] # Remueve el elemento en el índice i de la lista.\n",
        "\n",
        "* list(s) # Convierte una variable string a una lista que contiene como elementos los caracteres de la variable."
      ]
    },
    {
      "cell_type": "markdown",
      "metadata": {
        "colab_type": "text",
        "id": "HHal0d6ASZI0"
      },
      "source": [
        "**append**"
      ]
    },
    {
      "cell_type": "code",
      "metadata": {
        "colab_type": "code",
        "id": "-JUVQL1jRF1D",
        "colab": {}
      },
      "source": [
        "first_numbers = [1, 2, 3, 4, 5]\n",
        "print(\"Lista original\", first_numbers)\n",
        "print(\"Numero de elementos en la lista original:\", len(first_numbers))\n",
        "\n",
        "#Agregar un nuevo elemento a la lista\n",
        "first_numbers.append(6)\n",
        "\n",
        "#imprimir todos los elementos de la lista\n",
        "print(\"Lista despues de append\", first_numbers)\n",
        "\n",
        "#Numero de elementos en la lista\n",
        "print(\"Numero de elementos en la lista despues de append:\", len(first_numbers))"
      ],
      "execution_count": null,
      "outputs": []
    },
    {
      "cell_type": "markdown",
      "metadata": {
        "colab_type": "text",
        "id": "GBsMgxIPsLKM"
      },
      "source": [
        "**clear**"
      ]
    },
    {
      "cell_type": "code",
      "metadata": {
        "colab_type": "code",
        "id": "ZusNGGWYsLPF",
        "colab": {}
      },
      "source": [
        "first_numbers = [1, 2, 3, 4, 5]\n",
        "\n",
        "#imprimir todos los elementos de la lista\n",
        "print(\"Lista original\", first_numbers)\n",
        "\n",
        "#Eliminar todos los elementos de la lista\n",
        "first_numbers.clear()\n",
        "#imprimir todos los elementos de la lista\n",
        "print(\"Lista despues de clear\", first_numbers)"
      ],
      "execution_count": null,
      "outputs": []
    },
    {
      "cell_type": "markdown",
      "metadata": {
        "colab_type": "text",
        "id": "Cp0XphPSsPR-"
      },
      "source": [
        "**copy**"
      ]
    },
    {
      "cell_type": "code",
      "metadata": {
        "colab_type": "code",
        "id": "EyJZU-Q8sPXf",
        "colab": {}
      },
      "source": [
        "first_numbers = [1, 2, 3, 4, 5]\n",
        "\n",
        "#imprimir todos los elementos de la lista\n",
        "print(\"Lista original\", first_numbers)\n",
        "\n",
        "#copia los elementos de la lista a una nueva lista\n",
        "first_numbers_copy = first_numbers.copy()\n",
        "#imprimir todos los elementos de la lista\n",
        "print(\"Una copia de lista\", first_numbers_copy)\n",
        "\n",
        "#modificando la copia\n",
        "first_numbers_copy[0] = 0\n",
        "\n",
        "\n",
        "#imprimir todos los elementos de la lista copia modificada\n",
        "print(\"Copia de lista modificando primer elemento\", first_numbers_copy)\n",
        "#imprimir todos los elementos de la lista\n",
        "print(\"Lista original, no cambia al modificar copia\", first_numbers)\n"
      ],
      "execution_count": null,
      "outputs": []
    },
    {
      "cell_type": "markdown",
      "metadata": {
        "colab_type": "text",
        "id": "5NK5OBgDtKRY"
      },
      "source": [
        "**extend**"
      ]
    },
    {
      "cell_type": "code",
      "metadata": {
        "colab_type": "code",
        "id": "X64HiTxjtKbp",
        "colab": {}
      },
      "source": [
        "fruits = [\"apple\", \"orange\"]\n",
        "more_fruits = [\"peach\", \"pineapple\"]\n",
        "\n",
        "#Extender la lista fruits\n",
        "fruits.extend(more_fruits)\n",
        "print(fruits)"
      ],
      "execution_count": null,
      "outputs": []
    },
    {
      "cell_type": "markdown",
      "metadata": {
        "colab_type": "text",
        "id": "-PH2WqdrtnVO"
      },
      "source": [
        "**insert**"
      ]
    },
    {
      "cell_type": "code",
      "metadata": {
        "colab_type": "code",
        "id": "DfMFeleStnkw",
        "colab": {}
      },
      "source": [
        "first_numbers = [1, 3, 4, 5]\n",
        "\n",
        "#imprimir todos los elementos de la lista\n",
        "print(\"Lista original\", first_numbers)\n",
        "\n",
        "#insertar un nuevo valor en el indice 1\n",
        "first_numbers.insert(1, 2)\n",
        "#imprimir todos los elementos de la lista\n",
        "print(\"Lista al insertar en indice 1\", first_numbers)"
      ],
      "execution_count": null,
      "outputs": []
    },
    {
      "cell_type": "markdown",
      "metadata": {
        "colab_type": "text",
        "id": "ijYVAyLVuRPY"
      },
      "source": [
        "**pop**"
      ]
    },
    {
      "cell_type": "code",
      "metadata": {
        "colab_type": "code",
        "id": "nDmUCLgauRPU",
        "colab": {}
      },
      "source": [
        "numbers = [1, 2, 3, 4, 5]\n",
        "\n",
        "#imprimir todos los elementos de la lista\n",
        "print(\"Lista original \", numbers)\n",
        "\n",
        "#eliminar el segundo valor de la lista\n",
        "i = 1\n",
        "n = numbers.pop(i)\n",
        "\n",
        "#imprimir todos los elementos de la lista\n",
        "print(\"Eliminado el valor \", n ,\" de la lista con pop(\", i,\")\")\n",
        "#imprimir todos los elementos de la lista\n",
        "print(\"Nueva lista despues de pop(\", i,\")\", numbers)\n",
        "\n",
        "\n",
        "#eliminar el ultimo valor de la lista\n",
        "n = numbers.pop()\n",
        "\n",
        "#imprimir todos los elementos de la lista\n",
        "print(\"Eliminado el ultimo valor, \", n ,\", de la lista  con pop()\")\n",
        "#imprimir todos los elementos de la lista\n",
        "print(\"Nueva lista despues de pop() \", numbers)"
      ],
      "execution_count": null,
      "outputs": []
    },
    {
      "cell_type": "markdown",
      "metadata": {
        "colab_type": "text",
        "id": "p8KqMSKrTCLL"
      },
      "source": [
        "**remove**"
      ]
    },
    {
      "cell_type": "code",
      "metadata": {
        "colab_type": "code",
        "id": "ErpApbF1TG80",
        "colab": {}
      },
      "source": [
        "numbers = [1, 2, 3, 4, 5]\n",
        "\n",
        "#imprimir todos los elementos de la lista\n",
        "print(\"Lista original \", numbers)\n",
        "\n",
        "#eliminar la primera aparicion de n en la lista\n",
        "n = 3\n",
        "\n",
        "numbers.remove(n)\n",
        "print(\"Nueva lista despues de remove(\", n,\")\", numbers)"
      ],
      "execution_count": null,
      "outputs": []
    },
    {
      "cell_type": "markdown",
      "metadata": {
        "colab_type": "text",
        "id": "IGFtVOIuucjI"
      },
      "source": [
        "**reverse**"
      ]
    },
    {
      "cell_type": "code",
      "metadata": {
        "colab_type": "code",
        "id": "rHMLBklKucq1",
        "colab": {}
      },
      "source": [
        "numbers = [1, 2, 3, 4, 5]\n",
        "\n",
        "#imprimir todos los elementos de la lista\n",
        "print(\"Lista original \", numbers)\n",
        "\n",
        "numbers.reverse()\n",
        "#lista invertida\n",
        "print(\"Lista invertida con reverse\", numbers)"
      ],
      "execution_count": null,
      "outputs": []
    },
    {
      "cell_type": "markdown",
      "metadata": {
        "colab_type": "text",
        "id": "HiOmyeyuScfl"
      },
      "source": [
        "**sort**"
      ]
    },
    {
      "cell_type": "code",
      "metadata": {
        "colab_type": "code",
        "id": "qe2Mq2r1SNxU",
        "colab": {}
      },
      "source": [
        "numbers = [5, 1, 4, 3, 2]\n",
        "\n",
        "#imprimir todos los elementos de la lista\n",
        "print(\"Lista original: \", numbers)\n",
        "\n",
        "#Ordenar la lista de numeros\n",
        "numbers.sort()\n",
        "\n",
        "#imprimir todos los elementos de la lista\n",
        "print(\"Lista ordenada: \", numbers)"
      ],
      "execution_count": null,
      "outputs": []
    },
    {
      "cell_type": "markdown",
      "metadata": {
        "colab_type": "text",
        "id": "g3c-lEzLS_J7"
      },
      "source": [
        "**del**"
      ]
    },
    {
      "cell_type": "code",
      "metadata": {
        "colab_type": "code",
        "id": "w7xN3CyJTB_d",
        "colab": {}
      },
      "source": [
        "numbers = [1, 2, 3, 4, 5]\n",
        "\n",
        "#imprimir todos los elementos de la lista\n",
        "print(\"Lista original: \", numbers)\n",
        "\n",
        "#eliminar el segundo valor de la lista\n",
        "del numbers[1]\n",
        "\n",
        "#imprimir todos los elementos de la lista\n",
        "print(\"Eliminado el elementos en la posicion 1 de la lista con del \")\n",
        "#imprimir todos los elementos de la lista\n",
        "print(\"Nueva lista: \", numbers)\n",
        "\n",
        "\n",
        "#del tambien funciona con slices\n",
        "del numbers[:-3:-1]\n",
        "\n",
        "#imprimir todos los elementos de la lista\n",
        "print(\"Eliminado un slice de la lista con del: \")\n",
        "#imprimir todos los elementos de la lista\n",
        "print(\"Nueva lista: \", numbers)"
      ],
      "execution_count": null,
      "outputs": []
    },
    {
      "cell_type": "markdown",
      "metadata": {
        "colab_type": "text",
        "id": "v6tmx0rITHJG"
      },
      "source": [
        "**list(s)**"
      ]
    },
    {
      "cell_type": "code",
      "metadata": {
        "colab_type": "code",
        "id": "RY9Pr6b-TKZl",
        "colab": {}
      },
      "source": [
        "msj = \"Hola mundo!\"\n",
        "msj_list = list(msj)\n",
        "\n",
        "\n",
        "print(\"De cadena a lista:\", msj, \"->\", msj_list)"
      ],
      "execution_count": null,
      "outputs": []
    },
    {
      "cell_type": "markdown",
      "metadata": {
        "colab_type": "text",
        "id": "_8RfwbVfZRA1"
      },
      "source": [
        "## Diccionarios\n",
        "\n",
        "Los diccionarios en python son un tipo de dato utilizado para almacenar pares de \"clave: valor\". Cada clave en un diccionario tendrá que ser única y deberá utilizar un tipo de dato inmutable (strings y datos numéricos). Los valores asociados a una clave pueden ser cualquier tipo de dato en python o una combinación de éstos. Un diccionario es una secuencia no ordenada de elementos.\n",
        "\n",
        "Un diccionario representa un mapeo desde las claves definidas hacía los valores. Cada clave única mapea a un valor. Como en un diccionario de inglés a español.\n",
        "\n",
        "Para definir un diccionario, usarás ```{}```. Cada par ```clave:valor``` deberá estar separado por ```,```.\n",
        "\n",
        "```\n",
        "# un diccionario que mapea nombres(claves) a numeros(valores).\n",
        "contacts = {\"jack\": 1, \"ellie\":2, \"charles\":3, \"kelly\":4} \n",
        "```\n",
        "\n",
        "Para acceder a los valores de un diccionario, usarás la clave como índice.\n",
        "\n",
        "```\n",
        "#Acceder al valor de jack en el diccionario\n",
        "print(contacts[\"jack\"])\n",
        "```\n",
        "\n",
        "Si usas una clave que no está en el diccionario recibirás un error."
      ]
    },
    {
      "cell_type": "markdown",
      "metadata": {
        "id": "AqQOf4t99_jg",
        "colab_type": "text"
      },
      "source": [
        "Puedes modificar el valor asociado a una clave usando la clave como índice.\n",
        "\n",
        "```\n",
        "#asignando un nuevo valor a kelly\n",
        "contacts[\"kelly\"] = 0\n",
        "```\n",
        "\n",
        "También puedes agregar nuevos pares clave valor simplemente asignandolos a un diccionario existente.\n",
        "\n",
        "```\n",
        "# Agregando un nuevo par clave:valor\n",
        "contacts[\"jean\"] = 5\n",
        "```"
      ]
    },
    {
      "cell_type": "code",
      "metadata": {
        "colab_type": "code",
        "id": "99vd_v2VzHQm",
        "colab": {}
      },
      "source": [
        "#Un diccionario que mapea nombres a numeros\n",
        "contacts = {\"jack\": 1, \"ellie\":2, \"charles\":3, \"kelly\":4} \n",
        "print(contacts)\n",
        "\n",
        "#acceder a un valor especifico usando la clave como indice\n",
        "print(contacts[\"jack\"])\n",
        "\n",
        "#modificar el valor asignado a un elemento del diccionario usando la clave\n",
        "contacts[\"kelly\"] = 0\n",
        "print(contacts)\n",
        "\n",
        "#agregando un nuevo elemento clave:valor al diccionario\n",
        "contacts[\"jean\"] = 5\n",
        "print(contacts)"
      ],
      "execution_count": null,
      "outputs": []
    },
    {
      "cell_type": "code",
      "metadata": {
        "colab_type": "code",
        "id": "QzMXX4zfZEmw",
        "colab": {}
      },
      "source": [
        "contacts = {\"jack\": 1, \"ellie\":2, \"charles\":3, \"kelly\":4} \n",
        "\n",
        "#intentando acceder al valor de una clave que no esta en el diccionario\n",
        "print(contacts[\"jean\"])"
      ],
      "execution_count": null,
      "outputs": []
    },
    {
      "cell_type": "markdown",
      "metadata": {
        "colab_type": "text",
        "id": "izpf6DAg0yJo"
      },
      "source": [
        "### Número de elementos en un diccionario\n",
        "Puedes usar len(d) para obtener el número de pares clave:valor que hay en un diccionario."
      ]
    },
    {
      "cell_type": "code",
      "metadata": {
        "colab_type": "code",
        "id": "p6YP4_Rr0ySx",
        "colab": {}
      },
      "source": [
        "contacts = {\"jack\": 1, \"ellie\":2, \"charles\":3, \"kelly\":4} \n",
        "\n",
        "n = len(contacts)\n",
        "print(\"El diccionario contiene\", n, \"contactos\")"
      ],
      "execution_count": null,
      "outputs": []
    },
    {
      "cell_type": "markdown",
      "metadata": {
        "colab_type": "text",
        "id": "z1CjHPIO2kTp"
      },
      "source": [
        "### Eliminar un elemento de un diccionario\n",
        "\n",
        "Para elimiar un elemento de un diccionario, usarás la palabra ```del``` seguida de la referencia a la clave en el diccionario.\n",
        "\n",
        "```\n",
        "del contacts[\"jean\"]\n",
        "```"
      ]
    },
    {
      "cell_type": "code",
      "metadata": {
        "colab_type": "code",
        "id": "8qfu46XQ2kZT",
        "colab": {}
      },
      "source": [
        "contacts = {'jack': 1, 'ellie': 2, 'charles': 3, 'kelly': 0, 'jean': 5}\n",
        "print(contacts)\n",
        "\n",
        "#eliminar a jean del diccionario de contactos\n",
        "del contacts[\"jean\"]\n",
        "print(contacts)"
      ],
      "execution_count": null,
      "outputs": []
    },
    {
      "cell_type": "markdown",
      "metadata": {
        "colab_type": "text",
        "id": "mWSc4RcDVGPX"
      },
      "source": [
        "### Probar si una clave está en un diccionario. (in)\n",
        "\n",
        "Puedes utilizar la operacion ```in``` para probar si una clave está en un diccionario.\n",
        "\n",
        "```\n",
        "#Devuele True si clave esta en d, si no devuelve False\n",
        "clave in d\n",
        "```\n",
        "\n",
        "Recuerda que tratar de acceder al valor de una clave que no está en el diccionario mediante ```d[clave]``` retornará un error. Usá ```in``` con una _condicional_ antes de acceder a elementos de diccionarios cuando no sabes si contienen la clave.\n"
      ]
    },
    {
      "cell_type": "code",
      "metadata": {
        "colab_type": "code",
        "id": "K3xFkiHXVGVh",
        "colab": {}
      },
      "source": [
        "contacts = {'jack': 1, 'ellie': 2, 'charles': 3, 'kelly': 0, 'jean': 5}\n",
        "print(contacts)\n",
        "\n",
        "#Retorna true si la clave ya esta en el diccionario\n",
        "name = \"ellie\"\n",
        "print(name in contacts)"
      ],
      "execution_count": null,
      "outputs": []
    },
    {
      "cell_type": "markdown",
      "metadata": {
        "colab_type": "text",
        "id": "BW-zwxK_0yth"
      },
      "source": [
        "### Métodos de diccionarios\n",
        "\n",
        "Python provee algunas funcionalidades adicionales para el manejo de diccionarios. Entre éstos se encuentran:\n",
        "\n",
        "* d.copy() # Crea y devuelve una copia del dictionario que puede ser modificada independientemente al dictionario original.\n",
        "\n",
        "* d.keys() # Regresa un _objeto_ iterable con todas las claves que se encuentran en el diccionario.\n",
        "\n",
        "* d.values() #Regresa un _objeto_ iterable con todas los valores que se encuentran en el diccionario.\n",
        "\n",
        "* d.items() #Regresa un _objeto_ iterable con todass las tuplas (clave, valor) que se encuentran en el diccionario.\n",
        "\n",
        "* d.get(clave) #Regresa el valor asignado a una clave o el valor ```None``` si la clave no está en el diccionario (más seguro que d\\[key\\])."
      ]
    },
    {
      "cell_type": "markdown",
      "metadata": {
        "colab_type": "text",
        "id": "ZQ83L7Y5X1q6"
      },
      "source": [
        "**copy**"
      ]
    },
    {
      "cell_type": "code",
      "metadata": {
        "colab_type": "code",
        "id": "iAvuIGfz0y3n",
        "colab": {}
      },
      "source": [
        "contacts = {'jack': 1, 'ellie': 2, 'charles': 3, 'kelly': 4, 'jean': 5}\n",
        "print(\"Diccionario original:\", contacts)\n",
        "\n",
        "#creando una copia con copy\n",
        "contacts_cp = contacts.copy()\n",
        "#modificando la copia\n",
        "contacts_cp[\"ryan\"] = 6\n",
        "\n",
        "#imprimir ambos\n",
        "print(\"Diccionario original sin cambios:\", contacts)\n",
        "print(\"Diccionario copia modificado:\", contacts_cp)"
      ],
      "execution_count": null,
      "outputs": []
    },
    {
      "cell_type": "markdown",
      "metadata": {
        "colab_type": "text",
        "id": "6Q2AWDzMX2Re"
      },
      "source": [
        "**keys**"
      ]
    },
    {
      "cell_type": "code",
      "metadata": {
        "colab_type": "code",
        "id": "VM9ZBOfxX2a7",
        "colab": {}
      },
      "source": [
        "contacts = {'jack': 1, 'ellie': 2, 'charles': 3, 'kelly': 4, 'jean': 5}\n",
        "contacts.keys()"
      ],
      "execution_count": null,
      "outputs": []
    },
    {
      "cell_type": "markdown",
      "metadata": {
        "colab_type": "text",
        "id": "_oKDdlS3X2zj"
      },
      "source": [
        "**values**"
      ]
    },
    {
      "cell_type": "code",
      "metadata": {
        "colab_type": "code",
        "id": "7NCCSDzVX28l",
        "colab": {}
      },
      "source": [
        "contacts = {'jack': 1, 'ellie': 2, 'charles': 3, 'kelly': 4, 'jean': 5}\n",
        "contacts.values()"
      ],
      "execution_count": null,
      "outputs": []
    },
    {
      "cell_type": "markdown",
      "metadata": {
        "colab_type": "text",
        "id": "560yGNhsX3kW"
      },
      "source": [
        "**items**"
      ]
    },
    {
      "cell_type": "code",
      "metadata": {
        "colab_type": "code",
        "id": "QV5q8jOJX3qY",
        "colab": {}
      },
      "source": [
        "contacts = {'jack': 1, 'ellie': 2, 'charles': 3, 'kelly': 4, 'jean': 5}\n",
        "contacts.items()"
      ],
      "execution_count": null,
      "outputs": []
    },
    {
      "cell_type": "markdown",
      "metadata": {
        "colab_type": "text",
        "id": "XTCLuo3JX38B"
      },
      "source": [
        "**get**"
      ]
    },
    {
      "cell_type": "code",
      "metadata": {
        "colab_type": "code",
        "id": "f2gYz9UWX4DO",
        "colab": {}
      },
      "source": [
        "contacts = {'jack': 1, 'ellie': 2, 'charles': 3, 'kelly': 4, 'jean': 5}\n",
        "\n",
        "#get con una clave que si esta en el diccionario\n",
        "print(contacts.get(\"jean\"))\n",
        "\n",
        "#get con una clave que no esta en el diccionario\n",
        "print(contacts.get(\"john\"))"
      ],
      "execution_count": null,
      "outputs": []
    },
    {
      "cell_type": "markdown",
      "metadata": {
        "colab_type": "text",
        "id": "wXxossvcZWnd"
      },
      "source": [
        "### Eficiencia de un diccionario\n",
        "\n",
        "Los diciconarios en python están implementados usando una estructura de datos que permite realizar eficientemente búsquedas de elementos clave:valor. Cuando necesites crear una aplicación para realizar búsquedas eficientes de valores asociados a una clave única, los diccionarios serán la mejor opción (como por ejemplo, en una agenda de contactos).\n",
        "\n",
        "La estructura es conocida como [tabla hash](https://es.wikipedia.org/wiki/Tabla_hash), ésta permite realizar las búsqueda en un espacio constante de tiempo $O(1)$.\n"
      ]
    },
    {
      "cell_type": "markdown",
      "metadata": {
        "colab_type": "text",
        "id": "1-Hc_GjcZntz"
      },
      "source": [
        "# Condicionales\n",
        "\n",
        "Cuando escribes un programa, a veces es necesario ejecutar alguna secuencia de código únicamente cuando se cumple cierta condición. Para hacer esto, es necesario escribir una sentencia condicional o sentencia ```if```.\n",
        "\n",
        "En python, la primera parte de una sentencia condicional está formada por la palabra reservada ```if``` seguida de una expresión booleana. Una expresión booleana, es un tipo de expresión que solo podrá tomar dos valores, verdadero (```True```) o falso (```False```). En una sentencia if, la secuencia de código se ejecutará solamente cuando la expresión boolean devuelva un valor de True.\n",
        "\n",
        "```\n",
        "# Una condicional básica.\n",
        "if 5==5:\n",
        "  #Codigo se ejecuta porque 5 es igual a 5 (True)\n",
        "  #bloque de codigo aqui\n",
        "```"
      ]
    },
    {
      "cell_type": "code",
      "metadata": {
        "colab_type": "code",
        "id": "hLiTP5XyaBcP",
        "colab": {}
      },
      "source": [
        "#Una expresion booleana con valor True\n",
        "print(5 == 5)\n",
        "if 5 == 5:\n",
        "    print(\"Hola mundo!\")\n",
        "\n",
        "#Una expresion booleana con valor False\n",
        "print(4 == 5)\n",
        "if 4 == 5:\n",
        "    print(\"Hola segundo mundo!\")"
      ],
      "execution_count": null,
      "outputs": []
    },
    {
      "cell_type": "markdown",
      "metadata": {
        "colab_type": "text",
        "id": "rO0gklW0Zh2Q"
      },
      "source": [
        "## Identación de bloques\n",
        "En python, ¡la identación es importante!. Cada bloque o secuencia de código es identificado por medio de su identación. Después de escribir una condicional, _ciclo_ o _función_, deberás identar el bloque de código que quieres que esté dentro de ésta.\n",
        "\n",
        "Para identar los bloques de código, puedes utilizar tabulaciones o espacios. Intenta ser constante en el tipo de identación que uses."
      ]
    },
    {
      "cell_type": "markdown",
      "metadata": {
        "colab_type": "text",
        "id": "OQ0oAUYXZKWF"
      },
      "source": [
        "## Operadores relacionales\n",
        "Los siguientes operadores relacionales pueden ser utilizados para realizar comparaciones entre variables en una sentencia condicional.\n",
        "\n",
        "```\n",
        "x == y #equivalente a: True si el valor de x es igual al de y\n",
        "\n",
        "x != y #diferente a: True si el valor de x es diferente al de y\n",
        "\n",
        "x < y #menor a: True si el valor de x es menor al de y\n",
        "\n",
        "x > y #mayor a: True si el valor de x es mayor al de y\n",
        "\n",
        "x <= y #menor o igual a: True si el valor de x es menor o igual al de y\n",
        "\n",
        "x >= y #mayor o igual a: True si el valor de x es mayor o igual al de y\n",
        "```\n",
        "\n"
      ]
    },
    {
      "cell_type": "code",
      "metadata": {
        "colab_type": "code",
        "id": "aY5nh_EVZsnS",
        "colab": {}
      },
      "source": [
        "#Intenta cambiar los valores de x, y\n",
        "x = 5\n",
        "y = 5\n",
        "\n",
        "print(\"x == y\", x == y)\n",
        "print(\"x != y\", x != y)\n",
        "print(\"x < y\", x < y)\n",
        "print(\"x > y\", x > y)\n",
        "print(\"x <= y\", x <= y)\n",
        "print(\"x >= y\", x >= y)"
      ],
      "execution_count": null,
      "outputs": []
    },
    {
      "cell_type": "markdown",
      "metadata": {
        "colab_type": "text",
        "id": "Xs3-ouNQZXjs"
      },
      "source": [
        "## Operadores lógicos\n",
        "\n",
        "Puedes combinar múltiples expresiones booleanas haciendo uso de operadores lógicos. Los siguientes tres operadores lógicos están dispoblies en Python:\n",
        "\n",
        "\n",
        "* **and**\n",
        "\n",
        "  > Verdadero si ambas expresiones son verdaderas.\n",
        "* **or**\n",
        "\n",
        "  > Verdadero si una de las expresiones e verdadera o ambas lo son.\n",
        "* **not**\n",
        "\n",
        "  > Negación de la expresión, regresa falso si la expresión es verdadera o verdadero si la expresión es falsa.\n"
      ]
    },
    {
      "cell_type": "code",
      "metadata": {
        "colab_type": "code",
        "id": "QWRjLJ0eZfR-",
        "colab": {}
      },
      "source": [
        "#Prueba cambiando el valor de x\n",
        "x = 5\n",
        "if x > 0 and x < 10:\n",
        "    print(x, \" es un valor entre 0 y 10\")"
      ],
      "execution_count": null,
      "outputs": []
    },
    {
      "cell_type": "code",
      "metadata": {
        "colab_type": "code",
        "id": "dBv8m8r1eohS",
        "colab": {}
      },
      "source": [
        "#Prueba cambiando el valor de x\n",
        "x = 6\n",
        "if (x % 2 == 0) or (x % 3 == 0):\n",
        "    print(x, \"es un numero divisible entre tres o dos o ambos\")"
      ],
      "execution_count": null,
      "outputs": []
    },
    {
      "cell_type": "code",
      "metadata": {
        "colab_type": "code",
        "id": "URIaRbqPeood",
        "colab": {}
      },
      "source": [
        "#Prueba cambiando el valor de x\n",
        "x = 5\n",
        "if not(x > 10):\n",
        "    print(x, \" es un número menor o igual a 10\")"
      ],
      "execution_count": null,
      "outputs": []
    },
    {
      "cell_type": "markdown",
      "metadata": {
        "colab_type": "text",
        "id": "8tSu1Fk_Zapl"
      },
      "source": [
        "## Operador in\n",
        "En python, el operador ```in``` es un operador especial que retorna verdadero si el elemento en la parte izquierda del operador se encuentra en la _colección_ en la parte derecha del operador.\n",
        "\n",
        "\n",
        "\n",
        "```\n",
        "x in colection\n",
        "```\n",
        "\n"
      ]
    },
    {
      "cell_type": "code",
      "metadata": {
        "colab_type": "code",
        "id": "lmRWPxSdZfyh",
        "colab": {}
      },
      "source": [
        "#Un ejemplo del operador in utilizando cadenas de texto\n",
        "msj = \"Hola mundo!\"\n",
        "sub_s = \"mundo\"\n",
        "\n",
        "if sub_s in msj:\n",
        "    print(sub_s, \"esta contenido en \", msj)"
      ],
      "execution_count": null,
      "outputs": []
    },
    {
      "cell_type": "code",
      "metadata": {
        "colab_type": "code",
        "id": "T5OnFJSEO23r",
        "colab": {}
      },
      "source": [
        "#Un ejemplo del operador in utilizando listas\n",
        "numbers = [1, 2, 3, 4, 5] \n",
        "\n",
        "n = 3\n",
        "if n in numbers:\n",
        "    print(n, \"esta contenido en \", numbers)\n",
        "\n",
        "n = 8\n",
        "if n in numbers:\n",
        "    print(n, \"esta contenido en \", numbers)"
      ],
      "execution_count": null,
      "outputs": []
    },
    {
      "cell_type": "code",
      "metadata": {
        "colab_type": "code",
        "id": "egPZ0W6nO3A1",
        "colab": {}
      },
      "source": [
        "#Un ejemplo del operador in utilizando diccionarios\n",
        "contacts = {\"jack\": 1, \"ellie\":2, \"charles\":3, \"kelly\":4} \n",
        "\n",
        "name = \"kelly\"\n",
        "if name in contacts:\n",
        "    print(name, \"esta en tus contactos\")"
      ],
      "execution_count": null,
      "outputs": []
    },
    {
      "cell_type": "markdown",
      "metadata": {
        "colab_type": "text",
        "id": "KFXxQtsVkHFQ"
      },
      "source": [
        "## Ejecución alternativa de una condicional\n",
        "Cuando escribes una condicional, a veces es necesario ejecutar una secuencia de código alternativa cuando no se cumplió la condición. En python la palabra reservada ```else``` puede ser utilizada con este objetivo."
      ]
    },
    {
      "cell_type": "code",
      "metadata": {
        "colab_type": "code",
        "id": "dhuNuX8tkS7n",
        "colab": {}
      },
      "source": [
        "#Intenta cambiar el valor de x\n",
        "x == 4\n",
        "if x % 2 == 0:\n",
        "    print(x, \"es un numero par\")\n",
        "else:\n",
        "    print(x, \"es un numero impar\")"
      ],
      "execution_count": null,
      "outputs": []
    },
    {
      "cell_type": "markdown",
      "metadata": {
        "colab_type": "text",
        "id": "D0se4QsZaVRC"
      },
      "source": [
        "## Condicionales en cadena y anidadas\n",
        "\n",
        "A veces es necesario evaluar más de una posibilidad mediante condicionales, podrás utilizar ```elif``` (de else if) para para hacerlo.\n",
        "\n",
        "```\n",
        "if cond1:\n",
        "  #secuencia 1\n",
        "elif cond2:\n",
        "  #secuencia 2\n",
        "...\n",
        "elif condn:\n",
        "  #secuencia n\n",
        "else:\n",
        "  #ultima secuencia\n",
        "```\n",
        "\n"
      ]
    },
    {
      "cell_type": "code",
      "metadata": {
        "colab_type": "code",
        "id": "8V-hGCGflEln",
        "colab": {}
      },
      "source": [
        "#condicionales en cadena\n",
        "#Prueba a cambiar los valores de x, y\n",
        "x = 5\n",
        "y = 10\n",
        "\n",
        "if x < y:\n",
        "    print(x, 'es menor que ', y)\n",
        "elif x > y:\n",
        "    print(x, 'es mayor que ', y)\n",
        "else:\n",
        "    print(x, 'es igual a', y)"
      ],
      "execution_count": null,
      "outputs": []
    },
    {
      "cell_type": "markdown",
      "metadata": {
        "colab_type": "text",
        "id": "ytTzBmJupQly"
      },
      "source": [
        "En otras ocaciones, es necesario utilizar condicionales adicionales dentro de una rama de condición.\n",
        "\n",
        "```\n",
        "if con1:\n",
        "  #secuencia 1\n",
        "else:\n",
        "  if condalt1:\n",
        "    #secuencia alternativa 1\n",
        "  elif condalt2:\n",
        "    #secuencia alternativa 2\n",
        "  else:\n",
        "    #secuencia alternativa 3\n",
        "  \n",
        "```"
      ]
    },
    {
      "cell_type": "code",
      "metadata": {
        "colab_type": "code",
        "id": "YYcfubF-q0EW",
        "colab": {}
      },
      "source": [
        "#condicionales anidadas\n",
        "#Prueba a cambiar los valores de x, y\n",
        "x = 5\n",
        "y = 10\n",
        "\n",
        "if x == y:\n",
        "    print(x, 'es igual a', y)\n",
        "else:\n",
        "    if x > y:\n",
        "        print(x, 'es mayor que ', y)\n",
        "    else:\n",
        "        print(x, 'es menor que ', y)"
      ],
      "execution_count": null,
      "outputs": []
    },
    {
      "cell_type": "markdown",
      "metadata": {
        "colab_type": "text",
        "id": "qz4D7TLlZtCO"
      },
      "source": [
        "# Ciclos\n",
        "\n",
        "Muchas veces en un programa es necesario ejecutar una secuencia de código repetidamente para resolver una tarea. Los lenguajes de programación permiten hacer esto mediante ciclos, que ejecutan código múltiples ocasiones hasta que se cumple una condición de paro."
      ]
    },
    {
      "cell_type": "markdown",
      "metadata": {
        "colab_type": "text",
        "id": "M5DtOHkdZ89z"
      },
      "source": [
        "## While\n",
        "\n",
        "El ciclo ```while``` permite ejecutar una secuencia de código repetidamente mientras la expresión booleana recibida sea verdadera. La estructura de un ciclo while en python es la siguiente:\n",
        "\n",
        "```\n",
        "while expresion_booleana:\n",
        "  #ejecuta secuencia de código\n",
        "```\n",
        "\n",
        "_Nota: Un ciclo ```while``` podría ejecutarse sin parar si la expresión booleana siempre es verdadera (y nunca cambiara)._\n",
        "\n"
      ]
    },
    {
      "cell_type": "code",
      "metadata": {
        "colab_type": "code",
        "id": "llFicNwqZ5Xp",
        "colab": {}
      },
      "source": [
        "x = 1\n",
        "\n",
        "#intenta cambiar la expresion booleana\n",
        "while x < 10:\n",
        "    print(x)\n",
        "    #reasignando a x el valor actual de x mas 1\n",
        "    x = x + 1"
      ],
      "execution_count": null,
      "outputs": []
    },
    {
      "cell_type": "markdown",
      "metadata": {
        "colab_type": "text",
        "id": "NZRdSnHVZ7Cl"
      },
      "source": [
        "## For\n",
        "\n",
        "El ciclo ```for``` es la segunda opción de para realizar ciclos. En python, ```for``` es utilizado para recorrer _objetos_ iterables (como una lista) y ejecutar una secuencia de código para cada elemento de ésta.\n",
        "\n",
        "```\n",
        "for el in lista:\n",
        "  #secuencia de codigo\n",
        "```\n"
      ]
    },
    {
      "cell_type": "code",
      "metadata": {
        "colab_type": "code",
        "id": "XwUTMRy6Z9-p",
        "colab": {}
      },
      "source": [
        "lista = [1, 2, 3, 4, 5]\n",
        "\n",
        "#recorriendo la lista elemento por elemento\n",
        "print(\"Usando for para recorrer e imprimir los elementos de una lista\")\n",
        "for el in lista:\n",
        "    print(el)"
      ],
      "execution_count": null,
      "outputs": []
    },
    {
      "cell_type": "markdown",
      "metadata": {
        "colab_type": "text",
        "id": "bvtfR4NTrgyP"
      },
      "source": [
        "El tipo de dato range también se convierte útil en ciclos ```for```, ya que podemos recorrer un rango de números durante un ciclo ```for```.\n",
        "\n",
        "```\n",
        "for i in range(10):\n",
        "  #secuencia de código\n",
        "```"
      ]
    },
    {
      "cell_type": "code",
      "metadata": {
        "colab_type": "code",
        "id": "IJFBpEFxraHU",
        "colab": {}
      },
      "source": [
        "#Prueba a cambiar el valor de n\n",
        "n = 5\n",
        "#usando for y range para recorrer un rango de numeros\n",
        "print(\"Usando for y range para imprimir n numeros\")\n",
        "for i in range(n):\n",
        "    print(i)"
      ],
      "execution_count": null,
      "outputs": []
    },
    {
      "cell_type": "markdown",
      "metadata": {
        "colab_type": "text",
        "id": "mp5e8zlEz8Wk"
      },
      "source": [
        "### List comprehensions\n",
        "\n",
        "En python, existe una manera compacta de crear listas conocida como list comprehession. Para esto usas un for dentro de la declaración de una lista para definir los elementos. Por ejemplo:\n",
        "\n",
        "```\n",
        "l = [x_exp for x in coleccion]\n",
        "```"
      ]
    },
    {
      "cell_type": "code",
      "metadata": {
        "colab_type": "code",
        "id": "MkAYoIVwz8eZ",
        "colab": {}
      },
      "source": [
        "#generando una lista con 10 numeros con un for\n",
        "numbers = []\n",
        "\n",
        "for x in range(10):\n",
        "    numbers.append(x)\n",
        "print(numbers)\n",
        "\n",
        "#usando list comprehession\n",
        "numbers = [x for x in range(10)]\n",
        "print(numbers)"
      ],
      "execution_count": null,
      "outputs": []
    },
    {
      "cell_type": "code",
      "metadata": {
        "colab_type": "code",
        "id": "kqL-gOTv3WUA",
        "colab": {}
      },
      "source": [
        "#Algo mas avanzado\n",
        "#una lista con los cuadrados de los numeros de 0 al 9\n",
        "squares = []\n",
        "for x in range(10):\n",
        "    squares.append(x*x)\n",
        "print(squares)\n",
        "  \n",
        "#usando list comprehession\n",
        "squares = [x*x for x in range(10)]\n",
        "print(squares)"
      ],
      "execution_count": null,
      "outputs": []
    },
    {
      "cell_type": "markdown",
      "metadata": {
        "colab_type": "text",
        "id": "HJBLq3cZ3zVS"
      },
      "source": [
        "**Condicional en list comprehession**\n",
        "\n",
        "También es posible usar listas más avanzadas con list comprehession usando condicionales."
      ]
    },
    {
      "cell_type": "code",
      "metadata": {
        "colab_type": "code",
        "id": "2PfqefXe3zfP",
        "colab": {}
      },
      "source": [
        "#una lista con los cuadrados de los numeros pares entre 0 a 20\n",
        "\n",
        "even_squares = [x*x for x in range(20) if x%2 == 0]\n",
        "print(even_squares)"
      ],
      "execution_count": null,
      "outputs": []
    },
    {
      "cell_type": "markdown",
      "metadata": {
        "colab_type": "text",
        "id": "YX5gq6OBZ-zb"
      },
      "source": [
        "# Funciones\n",
        "\n",
        "En un lenguaje de programación, una función es un bloque de código que puede ser utilizado repetidamente durante diferentes etapas del programa. Para utilizar una función debes tener en cuenta los siguientes tres componentes que la conforman:\n",
        "\n",
        "* El nombre de la función:\n",
        "\n",
        "  >Cada función, es identificada mediante el nombre que le fue asignado (como una variable). Un ejemplo es la función ```print()```, una función pre-definida en python que hemos utilizado en las celdas de esta notebook. La función print realiza la tarea de escribir en la salida estándar los parámetros recibidos."
      ]
    },
    {
      "cell_type": "markdown",
      "metadata": {
        "id": "2OPQNHbM9_kT",
        "colab_type": "text"
      },
      "source": [
        "* Los parámetros de entrada de la función (pueden no tener parámetros):\n",
        "\n",
        "  >Algunas funciones reciben parámetros o argumentos como entrada para realizar su trabajo. Por ejemplo, las funciones ```int()```, ```float()``` y ```str()```. Reciben como argumento un tipo de dato y lo convierten a su respectivo tipo.\n"
      ]
    },
    {
      "cell_type": "markdown",
      "metadata": {
        "id": "i0AQ9nJy9_kT",
        "colab_type": "text"
      },
      "source": [
        "* El valor de retorno de la función (pueden no retornar valor):\n",
        "\n",
        "  >Las funciones también pueden o no retornar un valor como salida. Por ejemplo, la función int() regresa un nuevo valor entero. Cuando una función no retorna algún valor, entonces retornará **None**, un valor especial en python para definir un valor sin ningún tipo."
      ]
    },
    {
      "cell_type": "code",
      "metadata": {
        "colab_type": "code",
        "id": "Adnp7Z59aBf7",
        "colab": {}
      },
      "source": [
        "#La funcion print imprime su entrada como salida\n",
        "print(\"Hola mundo!\")\n",
        "\n",
        "#La funcion int convierte su entrada a entero y lo retorna como salida\n",
        "diez = \"10\"\n",
        "print(diez)\n",
        "print(type(diez))\n",
        "n = int(diez)\n",
        "#La salida de int es un entero\n",
        "print(n)\n",
        "print(type(n))"
      ],
      "execution_count": null,
      "outputs": []
    },
    {
      "cell_type": "markdown",
      "metadata": {
        "colab_type": "text",
        "id": "PDNF7vv3taby"
      },
      "source": [
        "### Algunas funciones pre-definidas\n",
        "\n",
        "Por defecto, python incluye algunas funciones pre-definidas que puedes usar durante un programa. Entre las más importantes se encuentran:\n",
        "\n",
        "Para convertir entre tipos de datos:\n",
        "*  [int()](https://docs.python.org/3.7/library/functions.html?highlight=int#int)\n",
        "* [float()](https://docs.python.org/3.7/library/functions.html?highlight=int#float)\n",
        "* [str()](https://docs.python.org/3.7/library/functions.html?highlight=int#str)\n",
        "\n",
        "Para realizar cálculos:\n",
        "* [max()](https://docs.python.org/3.7/library/functions.html?highlight=int#max) #Recibe como parámetros variables númericas, retorna el valor máximo.\n",
        "* [min()](https://docs.python.org/3.7/library/functions.html?highlight=int#min) #Recibe como parámetros variables númericas, retorna el valor mínimo.\n",
        "* [abs()](https://docs.python.org/3.7/library/functions.html?highlight=int#abs) #Recibe un parámetro numérico, retorna su valor absoluto.\n",
        "* [pow()](https://docs.python.org/3.7/library/functions.html?highlight=int#pow) #Recibe dos parámetros numéricos, retorna el primero elevado a la potencia del segundo.\n",
        "* [round()](https://docs.python.org/3.7/library/functions.html?highlight=int#round) #Recibe dos parámetros numéricos, retorna el primer parámetro redondeado matemáticamente a los puntos decimales designados por el segundo.\n"
      ]
    },
    {
      "cell_type": "markdown",
      "metadata": {
        "id": "83SZhDPC9_kW",
        "colab_type": "text"
      },
      "source": [
        "Otras funciones relevantes:\n",
        "* [len()](https://docs.python.org/3.7/library/functions.html?highlight=int#len) # Recibe una secuencia y retorna el tamaño de la secuencia\n",
        "* [print()](https://docs.python.org/3.7/library/functions.html?highlight=int#print) # Recibe uno o más parámetros y los imprime como salida.\n",
        "* [input()](https://docs.python.org/3.7/library/functions.html?highlight=int#input) # Recibe como parámetro una cadena, espera a recibir una acción en el teclado del usuario (hasta recibir un enter) y la retorna al programa como cadena."
      ]
    },
    {
      "cell_type": "code",
      "metadata": {
        "colab_type": "code",
        "id": "ezr5G18GtauS",
        "colab": {}
      },
      "source": [
        "#Las funciones min y max\n",
        "print(min(1,5))\n",
        "print(max(1,5))\n",
        "\n",
        "#tambien funcionan con listas\n",
        "numbers = [1, 2, 3, 4, 5]\n",
        "print(min(numbers))\n",
        "print(max(numbers))"
      ],
      "execution_count": null,
      "outputs": []
    },
    {
      "cell_type": "code",
      "metadata": {
        "colab_type": "code",
        "id": "9GUFBgrv1lHZ",
        "colab": {}
      },
      "source": [
        "#las funciones abs, pow y round\n",
        "print(abs(-5))\n",
        "\n",
        "print(pow(3, 2))\n",
        "\n",
        "print(round(3.14159265, 2))"
      ],
      "execution_count": null,
      "outputs": []
    },
    {
      "cell_type": "code",
      "metadata": {
        "colab_type": "code",
        "id": "JA0Qr4zW2Bcg",
        "colab": {}
      },
      "source": [
        "# La funcion input para recibir una cadena proporcionada por el usuario\n",
        "name = input(\"Ingresa tu nombre:\")\n",
        "print(\"Tu nombre es\", name)"
      ],
      "execution_count": null,
      "outputs": []
    },
    {
      "cell_type": "markdown",
      "metadata": {
        "colab_type": "text",
        "id": "CiZZXgSitSvt"
      },
      "source": [
        "### Escribiendo tus propias funciones\n",
        "\n",
        "Existen diferente motivos por los que podrías requerir escribir tus propias funciones para realizar tareas durante un programa:\n",
        "\n",
        "* Necesitas repetir alguna funcionalidad en distintas partes del código. En vez de copiar y pegar el código múltiples veces, escribe una función que puedes mandar a llamar desde cualquier parte del código.\n",
        "* Necesitas tener una funcionalidad particularizada para tu programa que sea independiente al resto de tu código. Después puedes utilizarla en otro programa sin preocuparte por escribirla nuevamente.\n",
        "* Necesitas agregar una funcionalidad particularizada de control usando parámetros. Si haces esto usando una función, entonces tu código será más fácil de leer y de mantener."
      ]
    },
    {
      "cell_type": "markdown",
      "metadata": {
        "id": "eJi50WhB9_kd",
        "colab_type": "text"
      },
      "source": [
        "* Cuando tu código es un revoltijo (código spaghetti). Puedes usar funciones para separar tu programa por bloques de código usando funciones y éste quedará mucho más limpio y ordenado.\n",
        "* Cuando necesitas resolver problemas de gran tamaño. Puedes utilizar funciones para escribir el código que resuelva los sub-problemas del problema y generar la solución final combinando todas las funciones.\n",
        "* Tu programa utiliza varios ciclos anidados o condicionales, si parte de esto puede ser representados usando funciones, entonces tu código será mucho más fácil de leer.\n",
        "* Quieres compartir parte de tu código a la comunidad. Usar funciones es una manera limpia de hacerlo."
      ]
    },
    {
      "cell_type": "markdown",
      "metadata": {
        "colab_type": "text",
        "id": "BmZpQfbr5Qv4"
      },
      "source": [
        "## Funciones en python\n",
        "\n",
        "Para declarar una función en python, deberás asignarle un nombre y parámetros de entrada (cero, uno o más). Python utiliza la palabra ```def``` para empezar la declaración de una función. La siguiente plantilla es una base para la declaración de funciones:\n",
        "\n",
        "```\n",
        "def <nombre de la funcion>(<lista con el nombre de los parametros>):\n",
        "  #codigo de la funcion\n",
        "```\n"
      ]
    },
    {
      "cell_type": "code",
      "metadata": {
        "colab_type": "code",
        "id": "fqQZmD1UsDL0",
        "colab": {}
      },
      "source": [
        "#Un ejemplo de una funcion\n",
        "def saluda(nombre):\n",
        "  #Una funcion que imprime un saludo a el nombre\n",
        "  print(\"Hola\", nombre)\n",
        "\n",
        "#Llamando a la funcion\n",
        "saluda(\"Fer\")"
      ],
      "execution_count": null,
      "outputs": []
    },
    {
      "cell_type": "code",
      "metadata": {
        "colab_type": "code",
        "id": "CepaJDnT9W5b",
        "colab": {}
      },
      "source": [
        "# Una funcion con multiples parametros\n",
        "def suma(x, y):\n",
        "  #una funcion que imprime la suma de dos numeros x y y\n",
        "  print(x + y)\n",
        "\n",
        "#Llamando a la funcion\n",
        "suma(3, 2)"
      ],
      "execution_count": null,
      "outputs": []
    },
    {
      "cell_type": "markdown",
      "metadata": {
        "colab_type": "text",
        "id": "wDXhFaNw61Cg"
      },
      "source": [
        "### return\n",
        "\n",
        "Una función puede regresar un valor como salida usando la palabra ```return``` seguida del valor. Cuando el código llega a un ```return```, la función termina, regresando el valor y continuendo el código principal del programa. Una plantilla de una función que regresa un valor:\n",
        "\n",
        "```\n",
        "def <nombre de la funcion>(<lista con el nombre de los parametros>):\n",
        "  #codigo de la funcion\n",
        "  return <valor>\n",
        "```\n",
        "\n",
        "Una función también puede contener múltiples ```return``` para retornar diferentes valores dependiendo de condicionales:\n",
        "```\n",
        "def <nombre de la funcion>(<lista con el nombre de los parametros>):\n",
        "  #codigo de la funcion\n",
        "  if <exp1>:\n",
        "    return <valor1>\n",
        "  else:\n",
        "    return <valor2>\n",
        "```\n",
        "\n",
        "También es posible regresar múltiples valores en un solo ```return```.\n",
        "\n",
        "```\n",
        "def <nombre de la funcion>(<lista con el nombre de los parametros>):\n",
        "  #codigo de la funcion\n",
        "  #return <valor1>, ..., <valorn>\n",
        "```\n"
      ]
    },
    {
      "cell_type": "code",
      "metadata": {
        "colab_type": "code",
        "id": "Xl2yBVEF61H9",
        "colab": {}
      },
      "source": [
        "def ones(n):\n",
        "    #Una funcion que retorna una lista con n unos\n",
        "\n",
        "    #usemos list comprehessions\n",
        "    return [1 for i in range(n)]\n",
        "\n",
        "print(ones(10))"
      ],
      "execution_count": null,
      "outputs": []
    },
    {
      "cell_type": "code",
      "metadata": {
        "colab_type": "code",
        "id": "Er7ZCWXd_k9J",
        "colab": {}
      },
      "source": [
        "#Una funcion con dos returns\n",
        "def esPar(x):\n",
        "    #Funcion que recibe un numero y regresa True si es par o False si no lo es\n",
        "    if x%2 == 0:\n",
        "        return True\n",
        "    else:\n",
        "        return False\n",
        "\n",
        "print(esPar(2))"
      ],
      "execution_count": null,
      "outputs": []
    },
    {
      "cell_type": "code",
      "metadata": {
        "colab_type": "code",
        "id": "5N007hqsQJip",
        "colab": {}
      },
      "source": [
        "#Una funcion que regresa varios valores en un return\n",
        "def plusOne(x, y, z):\n",
        "  #suma uno a x, y y z\n",
        "  return x+1, y+1, z+1\n",
        "\n",
        "print(plusOne(1, 2, 3))\n",
        "\n",
        "#tambien puedes asignar la salida a variables\n",
        "r, i, j = plusOne(1, 2, 3)\n",
        "print(r, i, j)"
      ],
      "execution_count": null,
      "outputs": []
    },
    {
      "cell_type": "markdown",
      "metadata": {
        "colab_type": "text",
        "id": "djvNfVBT62Vy"
      },
      "source": [
        "### Parámetros con valores predeterminados\n",
        "\n",
        "Los parámetros de una función pueden ser declarados para usar un valor predeterminado. Esto es útil cuando el usuario decide no pasar parámetros a la función, en ese caso, se utilizarán los valores predeterminados.\n",
        "La asignación de valores predeterminados se realiza de la siguiente manera:\n",
        "\n",
        "\n",
        "```\n",
        "def <nombre de la funcion>(<parametro1> = <valor1>, ...):\n",
        "  #codigo de la funcion\n",
        "```\n",
        "\n",
        "Si el usario decide pasar valores en una función con parámetros con valores predeterminados, entonces se utilizarán los valores del usuario, ignorando los predeterminados.\n"
      ]
    },
    {
      "cell_type": "code",
      "metadata": {
        "colab_type": "code",
        "id": "sqK_MwV-62a4",
        "colab": {}
      },
      "source": [
        "#Una funcion con parametros con valores predeterminados\n",
        "def suma(x = 0, y = 0):\n",
        "    print(x + y)\n",
        "\n",
        "suma()\n",
        "\n",
        "#El usuario puede pasar valores ignorando los valores predeterminados\n",
        "suma(3, 2)"
      ],
      "execution_count": null,
      "outputs": []
    },
    {
      "cell_type": "markdown",
      "metadata": {
        "colab_type": "text",
        "id": "3isuI26VN4Xr"
      },
      "source": [
        "## Funciones anónimas\n",
        "\n",
        "Una función anónima, también conocidas como funciones lambda, son un tipo de función que no reciben nombre y solo pueden utilizar una expresión. Para declarar una función anónima, deberás usar la palabra ```lambda```:\n",
        "\n",
        "\n",
        "\n",
        "```\n",
        "lambda <var>: <expresion>\n",
        "```\n",
        "\n",
        "Algunos casos donde podrías utilizar funciones anónimas:\n",
        "\n",
        "* Cuando puedes declararla con una sola expresión.\n",
        "* Cuando solo vas a utilizar la función una única ocasión en el programa.\n",
        "* Para transformar los valores de entrada de otra función.\n",
        "\n"
      ]
    },
    {
      "cell_type": "code",
      "metadata": {
        "colab_type": "code",
        "id": "s1SmZX1cN8hd",
        "colab": {}
      },
      "source": [
        "#una forma de utilizar funciones lambda\n",
        "print((lambda a: a*a)(10))\n",
        "\n",
        "#puedes almacenar funciones lambda en variables\n",
        "f_a = lambda a, b: a + b\n",
        "print(f_a(1, 2))\n",
        "\n",
        "#usando funcion lambda como parametro de otra funcion\n",
        "print(list(map(lambda x: x*x, [1, 2, 3, 4])))"
      ],
      "execution_count": null,
      "outputs": []
    },
    {
      "cell_type": "markdown",
      "metadata": {
        "colab_type": "text",
        "id": "YHSaZ7NQQnHt"
      },
      "source": [
        "# ¡Felicidades!\n",
        "\n",
        "**Ahora conoces las bases para empezar a utilizar python.**\n",
        "\n",
        "**¿Muchos conceptos?**\n",
        "\n",
        "**No te preocupes, siempre puedes regresar a esta notebook para apoyarte cuando lo necesites.**\n"
      ]
    }
  ]
}