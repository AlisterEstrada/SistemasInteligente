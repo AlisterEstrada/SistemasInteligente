{
  "nbformat": 4,
  "nbformat_minor": 0,
  "metadata": {
    "colab": {
      "name": "practica_1_python.ipynb",
      "provenance": [],
      "collapsed_sections": [],
      "include_colab_link": true
    },
    "kernelspec": {
      "display_name": "Python 3",
      "language": "python",
      "name": "python3"
    },
    "language_info": {
      "codemirror_mode": {
        "name": "ipython",
        "version": 3
      },
      "file_extension": ".py",
      "mimetype": "text/x-python",
      "name": "python",
      "nbconvert_exporter": "python",
      "pygments_lexer": "ipython3",
      "version": "3.7.6"
    }
  },
  "cells": [
    {
      "cell_type": "markdown",
      "metadata": {
        "id": "view-in-github",
        "colab_type": "text"
      },
      "source": [
        "<a href=\"https://colab.research.google.com/github/AlisterEstrada/SistemasInteligente/blob/master/practica_1_python.ipynb\" target=\"_parent\"><img src=\"https://colab.research.google.com/assets/colab-badge.svg\" alt=\"Open In Colab\"/></a>"
      ]
    },
    {
      "cell_type": "markdown",
      "metadata": {
        "colab_type": "text",
        "id": "4zMzLuXxBDdY"
      },
      "source": [
        "# Ejercicios bases de Python"
      ]
    },
    {
      "cell_type": "markdown",
      "metadata": {
        "colab_type": "text",
        "id": "HAY8IBC4dM62"
      },
      "source": [
        "## Estructuras, asignación y funciones"
      ]
    },
    {
      "cell_type": "markdown",
      "metadata": {
        "colab_type": "text",
        "id": "5OKzkyU6_1kB"
      },
      "source": [
        "### 1. Creando una agenda \n",
        "\n",
        "Utiliza los conceptos básicos de python para crear una agenda telefónica. Deberás completar las funciones crear_agenda, agregar_contacto, eliminimar_contacto y buscar_contacto que se encuentran en las siguientes celdas.\n",
        "\n",
        "* ```crear_agenda()```, esta función devuelve una nueva agenda vacía, elige el tipo de dato que creas adecuado para este proposito.\n",
        "* ```agregar_contacto(agenda, nombre, numero)```, esta función debe permitir agregar un nuevo contacto a la agenda, además si un contacto ya existe con el nombre recibido entonces debes almacenar su nuevo numero sin eliminar el anterior.\n",
        "* ```buscar_contacto(agenda, nombre)```, esta función debe de regresar el o los números registados de un contacto, si el contacto no existe entonces imprimer el mensaje \"Contacto no encontrado en la agenda\".\n",
        "* ```eliminar_contacto(agenda, nombre)```, esta función permite eliminar a un contacto de la agenda, si el contacto no existe entonces imprimer el mensaje \"Contacto no encontrado en la agenda\"."
      ]
    },
    {
      "cell_type": "code",
      "metadata": {
        "id": "eJRUlqviMb30",
        "colab_type": "code",
        "colab": {}
      },
      "source": [
        "def crear_agenda():\n",
        "    agenda = {}\n",
        "    return agenda"
      ],
      "execution_count": 123,
      "outputs": []
    },
    {
      "cell_type": "code",
      "metadata": {
        "colab_type": "code",
        "id": "QjsW0Y_M_x4j",
        "colab": {}
      },
      "source": [
        "def agregar_contacto(agenda, nombre, numero):\n",
        "    \"\"\"\n",
        "    Tip:\n",
        "    Primero debes comprobar si existe el contacto\n",
        "    si no existe entonces crea uno nuevo y guarda\n",
        "    su nombre y numero\"\"\"\n",
        "    if nombre in agenda:\n",
        "     agenda[nombre].append(numero)\n",
        "    else: \n",
        "     agenda[nombre] = [numero]\n",
        "    return agenda"
      ],
      "execution_count": 125,
      "outputs": []
    },
    {
      "cell_type": "code",
      "metadata": {
        "id": "XBxbYqMDMb4B",
        "colab_type": "code",
        "colab": {
          "base_uri": "https://localhost:8080/",
          "height": 34
        },
        "outputId": "ce1c6cd4-e00e-4969-b0f0-7cf7fb18d26d"
      },
      "source": [
        "agenda = crear_agenda()\n",
        "agenda = agregar_contacto(agenda, \"Javier\", \"1234567890\")\n",
        "print(agenda)"
      ],
      "execution_count": 135,
      "outputs": [
        {
          "output_type": "stream",
          "text": [
            "{'Javier': ['1234567890']}\n"
          ],
          "name": "stdout"
        }
      ]
    },
    {
      "cell_type": "code",
      "metadata": {
        "id": "0d4dVHuWMb4E",
        "colab_type": "code",
        "colab": {}
      },
      "source": [
        "def buscar_contacto(agenda, nombre):\n",
        "    \"\"\"\n",
        "    Busca el contacto en la agenda, imprime su nombre y numero\n",
        "    Si tiene mas de un numero, imprime todos\n",
        "    Si el contacto no existe, imprime \"Contacto no encontrado en la agenda\"\n",
        "    \"\"\"\n",
        "\n",
        "    if  nombre in agenda:\n",
        "      print(agenda.get(nombre))\n",
        "    else:\n",
        "      print(\"Contacto no encontrado en la agenda\")\n",
        "      \n",
        "    return"
      ],
      "execution_count": 128,
      "outputs": []
    },
    {
      "cell_type": "code",
      "metadata": {
        "id": "-yMoeBTYMb4I",
        "colab_type": "code",
        "colab": {
          "base_uri": "https://localhost:8080/",
          "height": 51
        },
        "outputId": "13358c34-a5d3-4012-ba9b-189a46772b27"
      },
      "source": [
        "buscar_contacto(agenda, \"Javier\")\n",
        "agenda = agregar_contacto(agenda, \"Javier\", \"0987654321\")\n",
        "buscar_contacto(agenda, \"Javier\")"
      ],
      "execution_count": 136,
      "outputs": [
        {
          "output_type": "stream",
          "text": [
            "['1234567890']\n",
            "['1234567890', '0987654321']\n"
          ],
          "name": "stdout"
        }
      ]
    },
    {
      "cell_type": "code",
      "metadata": {
        "id": "_BniQhDcMb4N",
        "colab_type": "code",
        "colab": {}
      },
      "source": [
        "def eliminar_contacto(agenda, nombre):\n",
        "    \"\"\"\n",
        "    Elimina el contacto de la agenda\n",
        "    si el contacto no existe imprime \"Contacto no encontrado en la agenda\"\n",
        "    \"\"\"\n",
        "    if  nombre in agenda:\n",
        "      agenda.pop(nombre)\n",
        "      print(agenda)\n",
        "    else:\n",
        "      print(\"Contacto no encontrado en la agenda\")\n",
        "      \n",
        "    return agenda"
      ],
      "execution_count": 132,
      "outputs": []
    },
    {
      "cell_type": "code",
      "metadata": {
        "colab_type": "code",
        "id": "RkNtzllbBirX",
        "colab": {
          "base_uri": "https://localhost:8080/",
          "height": 34
        },
        "outputId": "a7f80cd9-25ff-4133-ad97-e02e9f109ef3"
      },
      "source": [
        "agenda = eliminar_contacto(agenda,\"Javier\")"
      ],
      "execution_count": 138,
      "outputs": [
        {
          "output_type": "stream",
          "text": [
            "Contacto no encontrado en la agenda\n"
          ],
          "name": "stdout"
        }
      ]
    },
    {
      "cell_type": "markdown",
      "metadata": {
        "colab_type": "text",
        "id": "3nzzkH6EA88D"
      },
      "source": [
        "# Ejercicios estadística"
      ]
    },
    {
      "cell_type": "markdown",
      "metadata": {
        "colab_type": "text",
        "id": "e5g5CAaOc01h"
      },
      "source": [
        "### Función suma\n",
        "\n",
        "$$\n",
        "    suma(a) = \\sum_{i=1}^{n}a_i\n",
        "$$"
      ]
    },
    {
      "cell_type": "code",
      "metadata": {
        "colab_type": "code",
        "id": "RxWbpZ42c07g",
        "colab": {}
      },
      "source": [
        "def suma(x):\n",
        "    suma = 0\n",
        "    for i in x:\n",
        "      suma+=i\n",
        "    return suma"
      ],
      "execution_count": 117,
      "outputs": []
    },
    {
      "cell_type": "code",
      "metadata": {
        "id": "LJe5ym8ZMb4j",
        "colab_type": "code",
        "colab": {}
      },
      "source": [
        "assert suma([1, 2, 3, 4, 5]) == 15"
      ],
      "execution_count": 118,
      "outputs": []
    },
    {
      "cell_type": "markdown",
      "metadata": {
        "colab_type": "text",
        "id": "Hc30xEPMc1QC"
      },
      "source": [
        "### Función promedio.\n",
        "\n",
        "$$\n",
        "\t\\bar{x} = \\dfrac{\\sum_{i=1}^{n}x_i}{n}\n",
        "$$"
      ]
    },
    {
      "cell_type": "code",
      "metadata": {
        "colab_type": "code",
        "id": "2KyU6PyCc1VM",
        "colab": {}
      },
      "source": [
        "def promedio(x):\n",
        "    promedio = 0\n",
        "    \n",
        "    promedio = suma(x)/len(x)\n",
        "      \n",
        "    return promedio"
      ],
      "execution_count": 112,
      "outputs": []
    },
    {
      "cell_type": "code",
      "metadata": {
        "id": "Mgx_KIecMb4p",
        "colab_type": "code",
        "colab": {}
      },
      "source": [
        "assert promedio([1, 2, 3, 4, 5]) == 3, \"Error en promedio\""
      ],
      "execution_count": 115,
      "outputs": []
    },
    {
      "cell_type": "markdown",
      "metadata": {
        "colab_type": "text",
        "id": "ImMoE5w4c1of"
      },
      "source": [
        "### Función varianza.\n",
        "$$\n",
        "\\sigma^2 = \\frac{1}{n} \\sum_{i=1}^{n}(x_i - \\bar{x})^2\n",
        "$$"
      ]
    },
    {
      "cell_type": "code",
      "metadata": {
        "colab_type": "code",
        "id": "h0w2PHhLc1tG",
        "colab": {}
      },
      "source": [
        "def var(x):\n",
        "    var = 0\n",
        "    k = promedio(x)\n",
        "    for i in x:\n",
        "      var = (i-k)*(i-k) + var\n",
        "    var=var/len(x)\n",
        "    return var"
      ],
      "execution_count": 110,
      "outputs": []
    },
    {
      "cell_type": "code",
      "metadata": {
        "id": "NJ5fqdaNMb40",
        "colab_type": "code",
        "colab": {}
      },
      "source": [
        "assert var([1, 2, 3, 4, 5]) == 2, \"Error en var\""
      ],
      "execution_count": 116,
      "outputs": []
    },
    {
      "cell_type": "markdown",
      "metadata": {
        "colab_type": "text",
        "id": "fxxJeFhbA9Cq"
      },
      "source": [
        "# Ejercicios álgebra lineal"
      ]
    },
    {
      "cell_type": "markdown",
      "metadata": {
        "colab_type": "text",
        "id": "6dXp-owNeqP9"
      },
      "source": [
        "## Vectores con listas"
      ]
    },
    {
      "cell_type": "markdown",
      "metadata": {
        "colab_type": "text",
        "id": "9Du0_NsNc81H"
      },
      "source": [
        "### Ones"
      ]
    },
    {
      "cell_type": "markdown",
      "metadata": {
        "colab_type": "text",
        "id": "DKp9wDLPEZdz"
      },
      "source": [
        "Completa la función ones1D que recibe como parámetros un entero $n$ y retorna una lista de tamaño $n$ con todos sus elementos con el valor $1$.\n",
        "\n",
        "Ejemplo:\n",
        "\n",
        "```\n",
        ">>> ones(5)\n",
        "[1, 1, 1, 1, 1]\n",
        "```\n",
        "\n"
      ]
    },
    {
      "cell_type": "code",
      "metadata": {
        "colab_type": "code",
        "id": "l4j5ka46EulY",
        "colab": {}
      },
      "source": [
        "def ones_1d(n):\n",
        "    ones_list = []\n",
        "    for i in range(n):\n",
        "      ones_list.append(1)\n",
        "    return ones_list  "
      ],
      "execution_count": 105,
      "outputs": []
    },
    {
      "cell_type": "markdown",
      "metadata": {
        "colab_type": "text",
        "id": "TBYV7LYqdSJo"
      },
      "source": [
        "Ejecuta la siguiente celda para comprobar la función ones1D:"
      ]
    },
    {
      "cell_type": "code",
      "metadata": {
        "colab_type": "code",
        "id": "QUlEotVIdRno",
        "colab": {
          "base_uri": "https://localhost:8080/",
          "height": 34
        },
        "outputId": "a1c1bc1b-6199-4248-f4a2-397397b4c2c6"
      },
      "source": [
        "assert len(ones_1d(10)) == 10 and  ones_1d(3).count(1) == 3 and sum(ones_1d(5)) == 5  , \"error en la funcion ones_1d\"\n",
        "print(\"La funcion es correcta\")"
      ],
      "execution_count": 106,
      "outputs": [
        {
          "output_type": "stream",
          "text": [
            "La funcion es correcta\n"
          ],
          "name": "stdout"
        }
      ]
    },
    {
      "cell_type": "markdown",
      "metadata": {
        "id": "KnM26Z27Mb49",
        "colab_type": "text"
      },
      "source": [
        "### Ones 2D"
      ]
    },
    {
      "cell_type": "markdown",
      "metadata": {
        "colab_type": "text",
        "id": "lxOMWQXXEZp3"
      },
      "source": [
        "Completa la función ones_2d que recibe como parámetros un entero $n$ y un entero $m$ y retorna una lista con $n$ sub-listas cada una de tamaño $m$ con todos sus elementos con el valor 1. En otras palabras, una matriz $n \\times m$ con sus elementos iniciados con valor $1$.\n",
        "\n",
        "Ejemplo:\n",
        "\n",
        "\n",
        "\n",
        "```\n",
        ">>> ones_2d(2, 3)\n",
        "[[1, 1, 1], [1, 1, 1]]\n",
        "```\n",
        "\n"
      ]
    },
    {
      "cell_type": "code",
      "metadata": {
        "colab_type": "code",
        "id": "-xfFmttxFRCw",
        "colab": {}
      },
      "source": [
        "def ones_2d(m, n):\n",
        "    ones_ll = []\n",
        "    sub_list = []\n",
        "    for i in range(m):\n",
        "      ones_ll.append(sub_list)\n",
        "      sub_list.clear()\n",
        "      for j in range(n):\n",
        "        sub_list.append(1)\n",
        "    return ones_ll"
      ],
      "execution_count": 103,
      "outputs": []
    },
    {
      "cell_type": "markdown",
      "metadata": {
        "colab_type": "text",
        "id": "yugjWXI9eI4P"
      },
      "source": [
        "Ejecuta la siguiente celda para comprobar la función ones2D:"
      ]
    },
    {
      "cell_type": "code",
      "metadata": {
        "colab_type": "code",
        "id": "i7sZXWsveJBC",
        "colab": {
          "base_uri": "https://localhost:8080/",
          "height": 34
        },
        "outputId": "92438b57-e12f-499d-935d-a6b2406a48ff"
      },
      "source": [
        "assert len(ones_2d(2, 3)) == 2 and len(ones_2d(2, 3)[0]) == 3 and sum([x_i for sl in ones_2d(3, 2) for x_i in sl]) == 6 , \"error en la funcion ones_2d\"\n",
        "print(\"La funcion es correcta\")"
      ],
      "execution_count": 104,
      "outputs": [
        {
          "output_type": "stream",
          "text": [
            "La funcion es correcta\n"
          ],
          "name": "stdout"
        }
      ]
    },
    {
      "cell_type": "markdown",
      "metadata": {
        "id": "cFftpZIZMb5F",
        "colab_type": "text"
      },
      "source": [
        "### Producto punto (inner)"
      ]
    },
    {
      "cell_type": "markdown",
      "metadata": {
        "id": "5vCSYv1bMb5G",
        "colab_type": "text"
      },
      "source": [
        "Completa la función ones_2d que recibe como parametros dos listas a, b de la misma longitúd y retorna el producto punto de ambos.\n",
        "\n",
        "El producto punto está definido como:\n",
        "\n",
        "$$a = [a_1 a_2 ... a_n] \\: y \\: b = [b_1 b_2 ... b_n]$$\n",
        "\n",
        "$$\n",
        "a \\cdot b = a_1*b_1 + a_2*b_2 + \\dots + a_n*b_n\n",
        "$$"
      ]
    },
    {
      "cell_type": "code",
      "metadata": {
        "colab_type": "code",
        "id": "OvNCcnXLBBc0",
        "colab": {}
      },
      "source": [
        "def inner(a, b):\n",
        "  answer = 0;\n",
        "  size = len(a)\n",
        "  for i in range(size):\n",
        "    answer = a[i] * b[i] + answer\n",
        "  return answer\n"
      ],
      "execution_count": 74,
      "outputs": []
    },
    {
      "cell_type": "code",
      "metadata": {
        "id": "4HTAL2IVMb5J",
        "colab_type": "code",
        "colab": {
          "base_uri": "https://localhost:8080/",
          "height": 34
        },
        "outputId": "211ff977-dea5-409d-e76a-88577f87a525"
      },
      "source": [
        "assert inner([1, 2, 3], [1, 2 ,3]) == 14, \"Error en inner\"\n",
        "print(\"Correcto\")"
      ],
      "execution_count": 75,
      "outputs": [
        {
          "output_type": "stream",
          "text": [
            "Correcto\n"
          ],
          "name": "stdout"
        }
      ]
    },
    {
      "cell_type": "markdown",
      "metadata": {
        "colab_type": "text",
        "id": "6B7dwCC7eqnL"
      },
      "source": [
        "## Matrices con listas de listas"
      ]
    },
    {
      "cell_type": "markdown",
      "metadata": {
        "colab_type": "text",
        "id": "l36RNkUqexzU"
      },
      "source": [
        "### Matriz identidad\n",
        "$$\n",
        "\tI_{ij} = \\begin{cases}\n",
        "\t\t1 & i=j\\\\\n",
        "\t\t0 & i \\neq j\\\\\n",
        "\t\\end{cases}\n",
        "$$"
      ]
    },
    {
      "cell_type": "code",
      "metadata": {
        "colab_type": "code",
        "id": "afcnX6E_eqvP",
        "colab": {}
      },
      "source": [
        "def eye(n):\n",
        "    '''\n",
        "    Esta funcion debe regresar la matriz identidad de tamano nxn\n",
        "    '''\n",
        "    I=[[0 for x in range(n)] for y in range(n)]\n",
        "    for i in range(n):\n",
        "        I[i][i] = 1\n",
        "        \n",
        "    return I"
      ],
      "execution_count": 219,
      "outputs": []
    },
    {
      "cell_type": "code",
      "metadata": {
        "id": "F8x8FuC8Mb5N",
        "colab_type": "code",
        "colab": {}
      },
      "source": [
        "assert eye(2) == [[1, 0], [0, 1]], \"Error en eye\""
      ],
      "execution_count": 220,
      "outputs": []
    },
    {
      "cell_type": "markdown",
      "metadata": {
        "colab_type": "text",
        "id": "jLXu_k7CfCqF"
      },
      "source": [
        "### Matriz transpuesta\n",
        "\n",
        "$$C = A^T \\Leftrightarrow c_{ij} = a{ji}$$\n",
        "\n",
        "Por ejemplo, si:\n",
        "\t$$\n",
        "\tA = \\begin{bmatrix}\n",
        "\ta_{11} & a_{12}  \\\\\n",
        "\ta_{21} & a_{22}  \\\\\n",
        "\ta_{31} & a_{32}  \\\\\n",
        "\t\\end{bmatrix}\n",
        "\t$$\n",
        "\tentonces\n",
        "\t$$\n",
        "\tA^T = \\begin{bmatrix}\n",
        "\ta_{11} & a_{21} & a_{31} \\\\\n",
        "\ta_{12} & a_{22} & a_{32} \\\\\n",
        "\t\\end{bmatrix}\n",
        "\t$$"
      ]
    },
    {
      "cell_type": "code",
      "metadata": {
        "colab_type": "code",
        "id": "zKWY09JhfEfa",
        "colab": {}
      },
      "source": [
        "def traspose(A):\n",
        "    '''\n",
        "    Esta funcion debe regresar la transpuesta de A\n",
        "    '''\n",
        "    A_t = [[A[j][i] for j in range(len(A))] for i in range(len(A[0]))] \n",
        "    return A_t"
      ],
      "execution_count": 99,
      "outputs": []
    },
    {
      "cell_type": "code",
      "metadata": {
        "id": "iB7EpBEsMb5Q",
        "colab_type": "code",
        "colab": {}
      },
      "source": [
        "assert traspose([[1, 2], [3, 4], [5, 6]]) == [[1, 3, 5], [2, 4, 6]], \"Error en traspose\""
      ],
      "execution_count": 100,
      "outputs": []
    },
    {
      "cell_type": "markdown",
      "metadata": {
        "id": "GlnyGpKhMb5S",
        "colab_type": "text"
      },
      "source": [
        "### Valida multiplicación\n",
        "\n",
        "```True``` si\n",
        "$$A \\qquad es \\qquad mxn$$\n",
        "y\n",
        "$$B \\qquad es \\qquad nxp$$\n",
        "```False``` en otro caso"
      ]
    },
    {
      "cell_type": "code",
      "metadata": {
        "id": "iGZQ8ofAMb5S",
        "colab_type": "code",
        "colab": {}
      },
      "source": [
        "def validate_mat_mul(A, B):\n",
        "    val = False\n",
        "    if len(A) == len(B[0]):\n",
        "      val = True\n",
        "    return val\n",
        "#validate_mat_mul([[1, 2], [3, 4], [5, 6]], [[1, 2, 3], [4, 5, 6]]) "
      ],
      "execution_count": 97,
      "outputs": []
    },
    {
      "cell_type": "code",
      "metadata": {
        "id": "z4z17M3vMb5U",
        "colab_type": "code",
        "colab": {}
      },
      "source": [
        "assert validate_mat_mul([[1, 2], [3, 4]], [[5, 6], [7, 8]]) and \\\n",
        "validate_mat_mul([[1, 2], [3, 4], [5, 6]], [[1, 2, 3], [4, 5, 6]]) and \\\n",
        "not validate_mat_mul([[1, 2, 3], [4, 5, 6], [7, 8, 9]], [[1, 2], [3, 4]]), \"Error en validate_mat_mul\""
      ],
      "execution_count": 98,
      "outputs": []
    },
    {
      "cell_type": "markdown",
      "metadata": {
        "colab_type": "text",
        "id": "RY2TgoGye3pV"
      },
      "source": [
        "### Multiplicación de matrices\n",
        "\n",
        "Si $A \\in \\mathbb{R}^{m \\times n}$ y $B \\in \\mathbb{R}^{n \\times p}$ entonces:\n",
        "$$\n",
        "C = A B \\in \\mathbb{R}^{m \\times p}\\Leftrightarrow c_{ij} = \\sum_{k=1}^{n}a_{ik} b_{kj}\n",
        "$$"
      ]
    },
    {
      "cell_type": "code",
      "metadata": {
        "colab_type": "code",
        "id": "DxFQFm51e-A1",
        "colab": {
          "base_uri": "https://localhost:8080/",
          "height": 34
        },
        "outputId": "4771e68a-1dca-4a73-c4ec-3ac7c630e609"
      },
      "source": [
        "def mat_mul(A, B):\n",
        "    temp = [[B[j][i] for j in range(len(B))] for i in range(len(B[0]))]\n",
        "    C = [[inner(A[i], temp[j]) for j in range(len(B[0]))] for i in range(len(A))]\n",
        "    return C\n",
        "print(mat_mul([[1, 2], [3, 4], [5, 6]], [[2, 2], [2, 2]]))"
      ],
      "execution_count": 101,
      "outputs": [
        {
          "output_type": "stream",
          "text": [
            "[[6, 6], [14, 14], [22, 22]]\n"
          ],
          "name": "stdout"
        }
      ]
    },
    {
      "cell_type": "code",
      "metadata": {
        "id": "1njOucJxMb5Y",
        "colab_type": "code",
        "colab": {}
      },
      "source": [
        "assert mat_mul([[1, 2], [3, 4], [5, 6]], [[2, 2], [2, 2]]) == [[6, 6], [14, 14], [22, 22]], \"Error en mat_mul\""
      ],
      "execution_count": 102,
      "outputs": []
    }
  ]
}
